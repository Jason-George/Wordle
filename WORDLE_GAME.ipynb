{
  "nbformat": 4,
  "nbformat_minor": 0,
  "metadata": {
    "colab": {
      "name": "WORDLE_GAME.ipynb",
      "provenance": [],
      "collapsed_sections": []
    },
    "kernelspec": {
      "name": "python3",
      "display_name": "Python 3"
    },
    "language_info": {
      "name": "python"
    }
  },
  "cells": [
    {
      "cell_type": "markdown",
      "source": [
        "### VERSION 2.0"
      ],
      "metadata": {
        "id": "MRn70j2V3X42"
      }
    },
    {
      "cell_type": "code",
      "execution_count": 1,
      "metadata": {
        "id": "TmnPqEcwvjRz"
      },
      "outputs": [],
      "source": [
        "import numpy as np\n",
        "import random\n",
        "import math\n",
        "import os\n",
        "import time\n",
        "import re\n",
        "import string\n",
        "from tqdm.notebook import tqdm_notebook\n",
        "\n",
        "from itertools import permutations,combinations_with_replacement,combinations"
      ]
    },
    {
      "cell_type": "code",
      "source": [
        "#get a list of all lowercase letters of the alphabet to check later\n",
        "letters = list(string.ascii_lowercase)\n",
        "len(letters)"
      ],
      "metadata": {
        "colab": {
          "base_uri": "https://localhost:8080/"
        },
        "id": "rxFb_jiHvxBX",
        "outputId": "a41132e5-b286-4591-d588-2e8038396bc6"
      },
      "execution_count": 2,
      "outputs": [
        {
          "output_type": "execute_result",
          "data": {
            "text/plain": [
              "26"
            ]
          },
          "metadata": {},
          "execution_count": 2
        }
      ]
    },
    {
      "cell_type": "code",
      "source": [
        "#a list of all 12972 possible guesses for the game\n",
        "guesses = open('/content/Worlde_Word_List.txt','r').read().splitlines()\n",
        "print(len(guesses))\n",
        "#print(guesses[:10])\n",
        "TOTAL_WORDS=len(guesses)"
      ],
      "metadata": {
        "colab": {
          "base_uri": "https://localhost:8080/"
        },
        "id": "dt-recg-vy-M",
        "outputId": "442717a7-069b-4f2f-ee19-a392d6e5dd43"
      },
      "execution_count": 3,
      "outputs": [
        {
          "output_type": "stream",
          "name": "stdout",
          "text": [
            "12972\n"
          ]
        }
      ]
    },
    {
      "cell_type": "code",
      "source": [
        "#a list of all 2315 possible naswer to the game\n",
        "answers = open('/content/Wordle_Possible_Answers.txt','r').read().splitlines()\n",
        "print(len(answers))\n",
        "#print(guesses[:10])\n",
        "TOTAL_ANS=len(answers)"
      ],
      "metadata": {
        "colab": {
          "base_uri": "https://localhost:8080/"
        },
        "id": "zEN5IbLgZ86a",
        "outputId": "b6cd89de-fac5-46fb-87ca-5e6767875d55"
      },
      "execution_count": 4,
      "outputs": [
        {
          "output_type": "stream",
          "name": "stdout",
          "text": [
            "2315\n"
          ]
        }
      ]
    },
    {
      "cell_type": "code",
      "source": [
        "#get a dictionary with all words along with their probability of occurences\n",
        "\n",
        "long_freqs = open('/content/long_freqs.txt','r').read().splitlines() #12972 words\n",
        "short_freqs = open('/content/short_freqs.txt','r').read().splitlines() #2315 words \n",
        "\n",
        "print(len(long_freqs),len(short_freqs))\n",
        "#print(len(long_freqs)+len(short_freqs))\n",
        "freqs = long_freqs + short_freqs\n",
        "#print(len(freqs))\n",
        "\n",
        "freqs_dict={}\n",
        "for item in freqs:\n",
        "  x = item.split(' ')\n",
        "  freqs_dict[x[0]] = float(x[1])\n",
        "print(len(freqs_dict))\n",
        "del long_freqs, short_freqs, #freqs"
      ],
      "metadata": {
        "id": "9tXBmrStKErg",
        "colab": {
          "base_uri": "https://localhost:8080/"
        },
        "outputId": "0b8f8df6-920a-43ba-f485-04de88d36b42"
      },
      "execution_count": 5,
      "outputs": [
        {
          "output_type": "stream",
          "name": "stdout",
          "text": [
            "10657 2315\n",
            "12972\n"
          ]
        }
      ]
    },
    {
      "cell_type": "code",
      "source": [
        "#Change -1 to 1e-16,so that math domanin error doesn't show up\n",
        "counter =0\n",
        "for item in freqs_dict.items():\n",
        "  itm = list(item)\n",
        "  if itm[-1] == -1.:\n",
        "    freqs_dict[itm[0]] = 1e-16\n",
        "    counter +=1\n",
        "counter"
      ],
      "metadata": {
        "colab": {
          "base_uri": "https://localhost:8080/"
        },
        "id": "TYe71QO-2JQQ",
        "outputId": "b8c29063-6113-43a8-dd5a-50a18ff9ab49"
      },
      "execution_count": 6,
      "outputs": [
        {
          "output_type": "execute_result",
          "data": {
            "text/plain": [
              "70"
            ]
          },
          "metadata": {},
          "execution_count": 6
        }
      ]
    },
    {
      "cell_type": "markdown",
      "source": [
        "**This function eliminates words based on the word we gussed that is the occurance of the letters in grey, yellow and the greens**"
      ],
      "metadata": {
        "id": "XshmoG57EgPd"
      }
    },
    {
      "cell_type": "code",
      "source": [
        "def eliminate_words(not_letters, present_letters,pos_letters,pos_absent):\n",
        "  letter_counter = 0\n",
        "  remain = []\n",
        "\n",
        "  for item in pos_letters:\n",
        "    if item in letters:#letters = all 26 letters\n",
        "      letter_counter +=1\n",
        "  #print('letter_counter:',letter_counter)\n",
        "  #letter_counter keeps counts of how many letters are in the fixed position\n",
        "\n",
        "      \n",
        "  #print(not_letters)\n",
        "  for item in guesses:\n",
        "    temp = list(item)\n",
        "    #print(temp)\n",
        "    #eliminates letters that aren't present\n",
        "    if ((len((set(temp) & set(not_letters)))) == 0) and\\\n",
        "                                      ((len((set(temp) & set(present_letters)))) == len(present_letters)): #keeps letters are\n",
        "      if letter_counter!=0:\n",
        "        counter = letter_counter\n",
        "        five_counter = 0\n",
        "        while five_counter <5:\n",
        "          current_letter = pos_letters[five_counter]\n",
        "          if current_letter in letters:\n",
        "            #print('here2',current_letter,temp[five_counter])\n",
        "\n",
        "            if temp[five_counter] == current_letter:\n",
        "              #print('here3',item)\n",
        "              counter -=1\n",
        "              five_counter +=1\n",
        "              #print(counter,five_counter)\n",
        "              if (counter == 0) or (five_counter == 5) :\n",
        "                remain.append(item)\n",
        "            else:\n",
        "              break #since if one letter doesn't match, it doesn't matter if others match\n",
        "          else:\n",
        "            five_counter+=1\n",
        "            \n",
        "      else:#letter_counter !=0\n",
        "        remain.append(item)\n",
        "\n",
        "  #eliminate letter based on yellow positions\n",
        "  new_remain=[]\n",
        "  do_eliminate=False\n",
        "  for x in pos_absent:\n",
        "    if len(list(x))!=0:\n",
        "      do_eliminate=True\n",
        "      break\n",
        "\n",
        "  \n",
        "  if do_eliminate:\n",
        "    \n",
        "    for word in remain:\n",
        "      match=False\n",
        "      list_word = list(word)\n",
        "      for indx, pos in enumerate(pos_absent):\n",
        "        if match:\n",
        "          break\n",
        "        pos_list = list(pos)\n",
        "        if len(pos_list) !=0:\n",
        "          #county=len(pos_list)\n",
        "          for letter in pos_list:\n",
        "            if list_word[indx]==letter:\n",
        "              match=True\n",
        "              break\n",
        "        if not match and indx==4:\n",
        "          new_remain.append(word)\n",
        "    return new_remain\n",
        "  \n",
        "  else:\n",
        "    return remain"
      ],
      "metadata": {
        "id": "L2BA4tTMv6k2"
      },
      "execution_count": 7,
      "outputs": []
    },
    {
      "cell_type": "markdown",
      "source": [
        "**This function calculates the information gain of each word and then sorts a dictionary with the highest information gained word at the top**"
      ],
      "metadata": {
        "id": "7y3VjAt0EkVX"
      }
    },
    {
      "cell_type": "code",
      "source": [
        "def get_entropy2(remain,freqs,combs):\n",
        "  bit_info={}\n",
        "  bit_relv={}\n",
        "\n",
        "  prob_average=[]\n",
        "  counter = 0\n",
        "  for item in remain:\n",
        "    #if counter%100==0:\n",
        "      #print('CCC:',counter)\n",
        "    counter +=1\n",
        "    temp = list(item)\n",
        "    #eliminates letters that aren't present\n",
        "    probs_list=[]\n",
        "    rel_probs=[]\n",
        "    EI_list=[]\n",
        "    EI_relv=[]\n",
        "    for comb in list(combs):\n",
        "      \n",
        "      not_letters = []\n",
        "      present_letters = []\n",
        "      pos_letters = []\n",
        "      letter_counter=0\n",
        "      remain_words=[]\n",
        "      for indx,comb_item in enumerate(comb):\n",
        "        #counterss +=1\n",
        "        #print(indx,comb_item)\n",
        "        if comb_item == 'green':\n",
        "          pos_letters.append(temp[indx])\n",
        "        elif comb_item == 'yellow':\n",
        "          present_letters.append(temp[indx])\n",
        "          pos_letters.append('-')\n",
        "        else: #comb_item == grey\n",
        "          not_letters.append(temp[indx])\n",
        "          pos_letters.append('-')\n",
        "      #print('HERE:',word,pos_letters,present_letters,not_letters)\n",
        "      for ltr in pos_letters:\n",
        "        if ltr in letters:#letters = all 26 letters\n",
        "          letter_counter +=1\n",
        "      #print('le',letter_counter)\n",
        "      \n",
        "      for word in remain:                        \n",
        "        \n",
        "        temp1 = list(word)\n",
        "        if ((len((set(temp1) & set(not_letters)))) == 0) and\\\n",
        "                                          ((len((set(temp1) & set(present_letters)))) == len(present_letters)): #keeps letters are\n",
        "          if letter_counter!=0:\n",
        "            counter = letter_counter\n",
        "            five_counter = 0\n",
        "            while five_counter <5:\n",
        "              current_letter = pos_letters[five_counter]\n",
        "              if current_letter in letters:\n",
        "                #print('here2',current_letter,temp[five_counter])\n",
        "\n",
        "                if temp1[five_counter] == current_letter:\n",
        "                  #print('here3',item,word)\n",
        "                  counter -=1\n",
        "                  five_counter +=1\n",
        "                  #print(counter,five_counter)\n",
        "                  if (counter == 0) or (five_counter == 5) :\n",
        "                    remain_words.append(word)\n",
        "                else:\n",
        "                  #pass\n",
        "                  break #since if one letter doesn't match, it doesn't matter if others match\n",
        "              else:\n",
        "                five_counter+=1\n",
        "                \n",
        "          else:#letter_counter !=0\n",
        "            \n",
        "            remain_words.append(word)\n",
        "      \n",
        "      if len(remain_words)!=0:\n",
        "        relv_sums =0\n",
        "        for wordss in remain_words:\n",
        "          relv_prob = freqs[wordss]\n",
        "          #if relv_prob !=0 and relv_prob>0:\n",
        "          #relvs = math.log2(1/relv_prob)\n",
        "          relv_sums += relv_prob* math.log2(1/relv_prob)\n",
        "\n",
        "\n",
        "        probs = len(remain_words)/len(remain)\n",
        "        log2 = math.log2(1/probs)\n",
        "        probs_list.append(probs)\n",
        "        EI_list.append(probs*log2)\n",
        "        EI_relv.append(relv_sums)\n",
        "\n",
        "    bit_info[item]=sum(EI_list)\n",
        "    bit_relv[item] = sum(EI_relv)\n",
        "  #print('BIT:',len(bit_relv))\n",
        "  \n",
        "    \n",
        "  \n",
        "  norm_sum = np.sum(np.asarray(list(bit_relv.values())))\n",
        "  norm_freqs = {key:bit_relv[key]/norm_sum for key in bit_relv.keys()}\n",
        "    \n",
        "  sorted_entropy = sorted(bit_info.items(), key=lambda kv: kv[1],reverse=True)\n",
        "  sorted_entropy_relv = sorted(norm_freqs.items(), key=lambda kv: kv[1],reverse=True)\n",
        "  return sorted_entropy,sorted_entropy_relv"
      ],
      "metadata": {
        "id": "P6rX9S2rRBsW"
      },
      "execution_count": 8,
      "outputs": []
    },
    {
      "cell_type": "markdown",
      "source": [
        "**This uses permutations and combinations to capture all the different possible ways in which green,grey and yellow letters can be arranged for a word**"
      ],
      "metadata": {
        "id": "qeG6HP7yExVf"
      }
    },
    {
      "cell_type": "code",
      "source": [
        "combx = combinations_with_replacement(['grey', 'yellow', 'green'], 3)\n",
        "#print(len(list(combx)))\n",
        "\n",
        "PERMS=[]\n",
        "for item in list(combx):\n",
        "  x = list(permutations(item, 3))\n",
        "  #for y in x:\n",
        "    #if y not in PERMS:\n",
        "  PERMS.extend(x)\n",
        "#print(len(PERMS))\n",
        "temp=[]\n",
        "COMBS=[]\n",
        "for permu in PERMS:\n",
        "  combs = list(combinations_with_replacement(permu, 5))\n",
        "  temp.extend(combs)\n",
        "for item in temp:\n",
        "  if item not in COMBS:\n",
        "    COMBS.append(item)\n",
        "print('TOTAL COMBINATIONS:',len(COMBS))"
      ],
      "metadata": {
        "colab": {
          "base_uri": "https://localhost:8080/"
        },
        "id": "_2HwqiRZL7X-",
        "outputId": "d14d5b90-9d4d-4a9f-d251-c11e7fa90618"
      },
      "execution_count": 9,
      "outputs": [
        {
          "output_type": "stream",
          "name": "stdout",
          "text": [
            "TOTAL COMBINATIONS: 99\n"
          ]
        }
      ]
    },
    {
      "cell_type": "markdown",
      "source": [
        "**This Function plays the game, taking the word guessed comparing it with the answer and generating the grey,yellow and green combinations**"
      ],
      "metadata": {
        "id": "oIKiI624E3Bw"
      }
    },
    {
      "cell_type": "code",
      "source": [
        "def play(answer, guess_word,abs,pres,pos_pres, pos_abs):\n",
        "\n",
        "  ans =list(answer)\n",
        "  guess = list(guess_word)\n",
        "  \n",
        "  #temp_abs = []\n",
        "  #temp_pres = []\n",
        "\n",
        "  temp_abs = list(set(guess).difference(set(ans))) #grey\n",
        "  temp_pres = list(set(guess).intersection(set(ans))) #yellow\n",
        "\n",
        "  #print(temp_abs,' ', temp_pres)\n",
        "\n",
        "  abs.extend(list(set(temp_abs)))\n",
        "  pres.extend(list(set(temp_pres)))\n",
        "\n",
        "  abs = list(set(abs))\n",
        "  pres = list(set(pres))\n",
        "\n",
        "  #print(abs,' ', pres)\n",
        "\n",
        "\n",
        "  for indx,guess_letter in enumerate(guess):\n",
        "    ans_letter = ans[indx]\n",
        "    #print(indx,guess_letter,ans_letter)\n",
        "    if ans_letter == guess_letter:\n",
        "      pos_pres[indx] = guess_letter #green\n",
        "      #pos_abs.append('')\n",
        "      if guess_letter in pres:\n",
        "        pres.remove(guess_letter)\n",
        "    else:\n",
        "      #pos_pres.append('-')\n",
        "      #if guess_letter not in pres:\n",
        "      if guess_letter not in abs and guess_letter in pres:\n",
        "        #print(indx,pos_abs[indx])\n",
        "        if pos_abs[indx]=='':\n",
        "          pos_abs[indx] = guess_letter\n",
        "        else:\n",
        "          temp = pos_abs[indx]\n",
        "          #print('temp',type(temp))\n",
        "          #print(type(guess_letter))\n",
        "          pos_abs[indx] = temp + guess_letter\n",
        "\n",
        "\n",
        "\n",
        "  return abs,pres,pos_pres,pos_abs"
      ],
      "metadata": {
        "id": "42vKfGH6ukMD"
      },
      "execution_count": 10,
      "outputs": []
    },
    {
      "cell_type": "markdown",
      "source": [
        "Plays one game of Wordle, either by custom choosing the answer and the first guess, or randomly choosing the first guess or randomly choosing both the answer and the first guess"
      ],
      "metadata": {
        "id": "7v5XA9kRg8Y3"
      }
    },
    {
      "cell_type": "code",
      "source": [
        "\n",
        "#ANSWER\n",
        "answer = random.choice(answers) #random word from the list of answers\n",
        "#answer='wonky' #or one can chose any word\n",
        "\n",
        "#FIRST_GUESS\n",
        "guess = random.choice(guesses) #random first guess from the list of guesses(12,297 words)\n",
        "#first_guess= 'slate' #or one can choose any word\n",
        "\n",
        "\n",
        "print('ANSWER:',answer)\n",
        "absent,present,pos_present,pos_absent = play(answer, guess,[],[],list('-----'),['','','','',''])\n",
        "print('1 guess:',guess)\n",
        "\n",
        "remain_words = []\n",
        "\n",
        "for number_play in list(range(2,7)):\n",
        "  if number_play < 7:\n",
        "      \n",
        "    if list(answer) != list(guess):\n",
        "      remain_words = eliminate_words(absent, present, pos_present,pos_absent)\n",
        "      sorted_entropyx,sorted_relv_entropyx = get_entropy2(remain_words,freqs_dict,COMBS)\n",
        "      guess = sorted_entropyx[0][0]\n",
        "      print(number_play,'guess:',guess)\n",
        "      #play\n",
        "      absent,present,pos_present,pos_absent = play(answer, guess,absent,present,pos_present,pos_absent)\n",
        "      \n",
        "      \n",
        "    if list(answer)==list(guess):\n",
        "      print('{} guessed in {} guesses'.format(guess,number_play))\n",
        "      break\n",
        "      \n",
        "\n",
        "  if number_play==6:\n",
        "\n",
        "    if list(answer) == list(guess):\n",
        "      print('Word Guessed Right at the Last step:',guess)\n",
        "\n",
        "    else:\n",
        "      print('LOST')\n",
        "      print('End of the Game & the Final Guess:',guess)"
      ],
      "metadata": {
        "colab": {
          "base_uri": "https://localhost:8080/"
        },
        "id": "xsfYlaW_g8nI",
        "outputId": "bd552eaf-6d6e-4e6d-a549-c1522c45a584"
      },
      "execution_count": 18,
      "outputs": [
        {
          "output_type": "stream",
          "name": "stdout",
          "text": [
            "ANSWER: blink\n",
            "1 guess: fains\n",
            "2 guess: bring\n",
            "3 guess: blink\n",
            "blink guessed in 3 guesses\n"
          ]
        }
      ]
    },
    {
      "cell_type": "markdown",
      "source": [
        "## Plays Wordle on its own, by picking a random answer and then making a random first guess and thereafter playing based on the word that gives the highest information"
      ],
      "metadata": {
        "id": "2il6LzLZBQDy"
      }
    },
    {
      "cell_type": "code",
      "source": [
        "NUM_GAMES = 5 #Number of games to play\n",
        "NUM_WINS = 0\n",
        "win_dict = {'1':0,'2':0,'3':0,'4':0,'5':0,'6':0}\n",
        "\n",
        "for game in range(NUM_GAMES):\n",
        "  answer = random.choice(answers)\n",
        "  guess = random.choice(guesses)\n",
        "  print('NEW GAME NO:',game+1)\n",
        "  print('ANSWER:',answer)\n",
        "  absent,present,pos_present,pos_absent = play(answer, guess,[],[],list('-----'),['','','','',''])\n",
        "  print('1 guess:',guess)\n",
        "  for number_play in list(range(2,7)):\n",
        "    if number_play < 7:\n",
        "        \n",
        "      if list(answer) != list(guess):\n",
        "        remain_words = eliminate_words(absent, present, pos_present,pos_absent)\n",
        "        sorted_entropy,sorted_relv_entropy = get_entropy2(remain_words,freqs_dict,COMBS)\n",
        "        guess = sorted_entropy[0][0]\n",
        "        print(number_play,'guess:',guess)\n",
        "        #play\n",
        "        absent,present,pos_present,pos_absent = play(answer, guess,absent,present,pos_present,pos_absent)\n",
        "        \n",
        "        \n",
        "      if list(answer)==list(guess):\n",
        "        print('{} guessed in {} guesses'.format(guess,number_play))\n",
        "        NUM_WINS +=1\n",
        "        win_dict[str(number_play)] +=1\n",
        "        break\n",
        "        \n",
        "\n",
        "    if number_play==6:\n",
        "\n",
        "      if list(answer) == list(guess):\n",
        "        print('Answer gotten at the Last step:',guess)\n",
        "        NUM_WINS +=1\n",
        "        win_dict[str(number_play)] +=1\n",
        "\n",
        "      else:\n",
        "        print('LOST')\n",
        "        print('End of the Game & the Final Guess:',guess)\n",
        "  print()\n",
        "\n",
        "print('Number of games won out of {} is {}'.format(NUM_GAMES,NUM_WINS))\n",
        "print('Number of wins for each number of guesses:')\n",
        "print(win_dict)"
      ],
      "metadata": {
        "colab": {
          "base_uri": "https://localhost:8080/"
        },
        "id": "f2K8edwwBJDn",
        "outputId": "8ada4952-38d6-4e31-cf1b-4a5e98a937df"
      },
      "execution_count": 19,
      "outputs": [
        {
          "output_type": "stream",
          "name": "stdout",
          "text": [
            "NEW GAME NO: 1\n",
            "ANSWER: worse\n",
            "1 guess: rubus\n",
            "2 guess: sawer\n",
            "3 guess: wersh\n",
            "4 guess: worse\n",
            "worse guessed in 4 guesses\n",
            "\n",
            "NEW GAME NO: 2\n",
            "ANSWER: bevel\n",
            "1 guess: guyed\n",
            "2 guess: pares\n",
            "3 guess: motel\n",
            "4 guess: incel\n",
            "5 guess: bevel\n",
            "bevel guessed in 5 guesses\n",
            "\n",
            "NEW GAME NO: 3\n",
            "ANSWER: chest\n",
            "1 guess: inust\n",
            "2 guess: reast\n",
            "3 guess: ghest\n",
            "4 guess: chest\n",
            "chest guessed in 4 guesses\n",
            "\n",
            "NEW GAME NO: 4\n",
            "ANSWER: thank\n",
            "1 guess: urbia\n",
            "2 guess: pleas\n",
            "3 guess: tango\n",
            "4 guess: thank\n",
            "thank guessed in 4 guesses\n",
            "\n",
            "NEW GAME NO: 5\n",
            "ANSWER: prize\n",
            "1 guess: hecks\n",
            "2 guess: pared\n",
            "3 guess: preon\n",
            "4 guess: prize\n",
            "prize guessed in 4 guesses\n",
            "\n",
            "Number of games won out of 5 is 5\n",
            "Number of wins for each number of guesses:\n",
            "{'1': 0, '2': 0, '3': 0, '4': 4, '5': 1, '6': 0}\n"
          ]
        }
      ]
    },
    {
      "cell_type": "markdown",
      "source": [
        "# **END**"
      ],
      "metadata": {
        "id": "b67SNp2CZnQA"
      }
    }
  ]
}