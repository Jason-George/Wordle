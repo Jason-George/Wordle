{
  "nbformat": 4,
  "nbformat_minor": 0,
  "metadata": {
    "colab": {
      "name": "Find_Words.ipynb",
      "provenance": [],
      "collapsed_sections": []
    },
    "kernelspec": {
      "name": "python3",
      "display_name": "Python 3"
    },
    "language_info": {
      "name": "python"
    },
    "widgets": {
      "application/vnd.jupyter.widget-state+json": {
        "cb7b95f1a25746299ce02892c1bd4ff7": {
          "model_module": "@jupyter-widgets/controls",
          "model_name": "HBoxModel",
          "model_module_version": "1.5.0",
          "state": {
            "_view_name": "HBoxView",
            "_dom_classes": [],
            "_model_name": "HBoxModel",
            "_view_module": "@jupyter-widgets/controls",
            "_model_module_version": "1.5.0",
            "_view_count": null,
            "_view_module_version": "1.5.0",
            "box_style": "",
            "layout": "IPY_MODEL_073277189f3447aeb2f5cd4232df8a76",
            "_model_module": "@jupyter-widgets/controls",
            "children": [
              "IPY_MODEL_aa2985a8e5cf4debacbfb77b0b6a2831",
              "IPY_MODEL_b9dba870c2df4fef9a326a1e67ca4416",
              "IPY_MODEL_d1492fd6eca545418aefca4a18ef0063"
            ]
          }
        },
        "073277189f3447aeb2f5cd4232df8a76": {
          "model_module": "@jupyter-widgets/base",
          "model_name": "LayoutModel",
          "model_module_version": "1.2.0",
          "state": {
            "_view_name": "LayoutView",
            "grid_template_rows": null,
            "right": null,
            "justify_content": null,
            "_view_module": "@jupyter-widgets/base",
            "overflow": null,
            "_model_module_version": "1.2.0",
            "_view_count": null,
            "flex_flow": null,
            "width": null,
            "min_width": null,
            "border": null,
            "align_items": null,
            "bottom": null,
            "_model_module": "@jupyter-widgets/base",
            "top": null,
            "grid_column": null,
            "overflow_y": null,
            "overflow_x": null,
            "grid_auto_flow": null,
            "grid_area": null,
            "grid_template_columns": null,
            "flex": null,
            "_model_name": "LayoutModel",
            "justify_items": null,
            "grid_row": null,
            "max_height": null,
            "align_content": null,
            "visibility": null,
            "align_self": null,
            "height": null,
            "min_height": null,
            "padding": null,
            "grid_auto_rows": null,
            "grid_gap": null,
            "max_width": null,
            "order": null,
            "_view_module_version": "1.2.0",
            "grid_template_areas": null,
            "object_position": null,
            "object_fit": null,
            "grid_auto_columns": null,
            "margin": null,
            "display": null,
            "left": null
          }
        },
        "aa2985a8e5cf4debacbfb77b0b6a2831": {
          "model_module": "@jupyter-widgets/controls",
          "model_name": "HTMLModel",
          "model_module_version": "1.5.0",
          "state": {
            "_view_name": "HTMLView",
            "style": "IPY_MODEL_0d6adc37b99440ad9aa2751805dcf7b5",
            "_dom_classes": [],
            "description": "",
            "_model_name": "HTMLModel",
            "placeholder": "​",
            "_view_module": "@jupyter-widgets/controls",
            "_model_module_version": "1.5.0",
            "value": "100%",
            "_view_count": null,
            "_view_module_version": "1.5.0",
            "description_tooltip": null,
            "_model_module": "@jupyter-widgets/controls",
            "layout": "IPY_MODEL_7b91a0b3023a4cd1ae2d32ec396681ca"
          }
        },
        "b9dba870c2df4fef9a326a1e67ca4416": {
          "model_module": "@jupyter-widgets/controls",
          "model_name": "FloatProgressModel",
          "model_module_version": "1.5.0",
          "state": {
            "_view_name": "ProgressView",
            "style": "IPY_MODEL_54c1eeb3d79b4c03bd5163bca6abcd81",
            "_dom_classes": [],
            "description": "",
            "_model_name": "FloatProgressModel",
            "bar_style": "success",
            "max": 1082,
            "_view_module": "@jupyter-widgets/controls",
            "_model_module_version": "1.5.0",
            "value": 1082,
            "_view_count": null,
            "_view_module_version": "1.5.0",
            "orientation": "horizontal",
            "min": 0,
            "description_tooltip": null,
            "_model_module": "@jupyter-widgets/controls",
            "layout": "IPY_MODEL_1b6d922042c245188c2c60156e8413fa"
          }
        },
        "d1492fd6eca545418aefca4a18ef0063": {
          "model_module": "@jupyter-widgets/controls",
          "model_name": "HTMLModel",
          "model_module_version": "1.5.0",
          "state": {
            "_view_name": "HTMLView",
            "style": "IPY_MODEL_dcf4f0d25ea5488bbd51304c94c12db9",
            "_dom_classes": [],
            "description": "",
            "_model_name": "HTMLModel",
            "placeholder": "​",
            "_view_module": "@jupyter-widgets/controls",
            "_model_module_version": "1.5.0",
            "value": " 1082/1082 [03:16&lt;00:00,  5.48it/s]",
            "_view_count": null,
            "_view_module_version": "1.5.0",
            "description_tooltip": null,
            "_model_module": "@jupyter-widgets/controls",
            "layout": "IPY_MODEL_84edbcd80e97434780b6ff4698590985"
          }
        },
        "0d6adc37b99440ad9aa2751805dcf7b5": {
          "model_module": "@jupyter-widgets/controls",
          "model_name": "DescriptionStyleModel",
          "model_module_version": "1.5.0",
          "state": {
            "_view_name": "StyleView",
            "_model_name": "DescriptionStyleModel",
            "description_width": "",
            "_view_module": "@jupyter-widgets/base",
            "_model_module_version": "1.5.0",
            "_view_count": null,
            "_view_module_version": "1.2.0",
            "_model_module": "@jupyter-widgets/controls"
          }
        },
        "7b91a0b3023a4cd1ae2d32ec396681ca": {
          "model_module": "@jupyter-widgets/base",
          "model_name": "LayoutModel",
          "model_module_version": "1.2.0",
          "state": {
            "_view_name": "LayoutView",
            "grid_template_rows": null,
            "right": null,
            "justify_content": null,
            "_view_module": "@jupyter-widgets/base",
            "overflow": null,
            "_model_module_version": "1.2.0",
            "_view_count": null,
            "flex_flow": null,
            "width": null,
            "min_width": null,
            "border": null,
            "align_items": null,
            "bottom": null,
            "_model_module": "@jupyter-widgets/base",
            "top": null,
            "grid_column": null,
            "overflow_y": null,
            "overflow_x": null,
            "grid_auto_flow": null,
            "grid_area": null,
            "grid_template_columns": null,
            "flex": null,
            "_model_name": "LayoutModel",
            "justify_items": null,
            "grid_row": null,
            "max_height": null,
            "align_content": null,
            "visibility": null,
            "align_self": null,
            "height": null,
            "min_height": null,
            "padding": null,
            "grid_auto_rows": null,
            "grid_gap": null,
            "max_width": null,
            "order": null,
            "_view_module_version": "1.2.0",
            "grid_template_areas": null,
            "object_position": null,
            "object_fit": null,
            "grid_auto_columns": null,
            "margin": null,
            "display": null,
            "left": null
          }
        },
        "54c1eeb3d79b4c03bd5163bca6abcd81": {
          "model_module": "@jupyter-widgets/controls",
          "model_name": "ProgressStyleModel",
          "model_module_version": "1.5.0",
          "state": {
            "_view_name": "StyleView",
            "_model_name": "ProgressStyleModel",
            "description_width": "",
            "_view_module": "@jupyter-widgets/base",
            "_model_module_version": "1.5.0",
            "_view_count": null,
            "_view_module_version": "1.2.0",
            "bar_color": null,
            "_model_module": "@jupyter-widgets/controls"
          }
        },
        "1b6d922042c245188c2c60156e8413fa": {
          "model_module": "@jupyter-widgets/base",
          "model_name": "LayoutModel",
          "model_module_version": "1.2.0",
          "state": {
            "_view_name": "LayoutView",
            "grid_template_rows": null,
            "right": null,
            "justify_content": null,
            "_view_module": "@jupyter-widgets/base",
            "overflow": null,
            "_model_module_version": "1.2.0",
            "_view_count": null,
            "flex_flow": null,
            "width": null,
            "min_width": null,
            "border": null,
            "align_items": null,
            "bottom": null,
            "_model_module": "@jupyter-widgets/base",
            "top": null,
            "grid_column": null,
            "overflow_y": null,
            "overflow_x": null,
            "grid_auto_flow": null,
            "grid_area": null,
            "grid_template_columns": null,
            "flex": null,
            "_model_name": "LayoutModel",
            "justify_items": null,
            "grid_row": null,
            "max_height": null,
            "align_content": null,
            "visibility": null,
            "align_self": null,
            "height": null,
            "min_height": null,
            "padding": null,
            "grid_auto_rows": null,
            "grid_gap": null,
            "max_width": null,
            "order": null,
            "_view_module_version": "1.2.0",
            "grid_template_areas": null,
            "object_position": null,
            "object_fit": null,
            "grid_auto_columns": null,
            "margin": null,
            "display": null,
            "left": null
          }
        },
        "dcf4f0d25ea5488bbd51304c94c12db9": {
          "model_module": "@jupyter-widgets/controls",
          "model_name": "DescriptionStyleModel",
          "model_module_version": "1.5.0",
          "state": {
            "_view_name": "StyleView",
            "_model_name": "DescriptionStyleModel",
            "description_width": "",
            "_view_module": "@jupyter-widgets/base",
            "_model_module_version": "1.5.0",
            "_view_count": null,
            "_view_module_version": "1.2.0",
            "_model_module": "@jupyter-widgets/controls"
          }
        },
        "84edbcd80e97434780b6ff4698590985": {
          "model_module": "@jupyter-widgets/base",
          "model_name": "LayoutModel",
          "model_module_version": "1.2.0",
          "state": {
            "_view_name": "LayoutView",
            "grid_template_rows": null,
            "right": null,
            "justify_content": null,
            "_view_module": "@jupyter-widgets/base",
            "overflow": null,
            "_model_module_version": "1.2.0",
            "_view_count": null,
            "flex_flow": null,
            "width": null,
            "min_width": null,
            "border": null,
            "align_items": null,
            "bottom": null,
            "_model_module": "@jupyter-widgets/base",
            "top": null,
            "grid_column": null,
            "overflow_y": null,
            "overflow_x": null,
            "grid_auto_flow": null,
            "grid_area": null,
            "grid_template_columns": null,
            "flex": null,
            "_model_name": "LayoutModel",
            "justify_items": null,
            "grid_row": null,
            "max_height": null,
            "align_content": null,
            "visibility": null,
            "align_self": null,
            "height": null,
            "min_height": null,
            "padding": null,
            "grid_auto_rows": null,
            "grid_gap": null,
            "max_width": null,
            "order": null,
            "_view_module_version": "1.2.0",
            "grid_template_areas": null,
            "object_position": null,
            "object_fit": null,
            "grid_auto_columns": null,
            "margin": null,
            "display": null,
            "left": null
          }
        },
        "4b0fe89787cd47759cb2fdd25d0f80f3": {
          "model_module": "@jupyter-widgets/controls",
          "model_name": "HBoxModel",
          "model_module_version": "1.5.0",
          "state": {
            "_view_name": "HBoxView",
            "_dom_classes": [],
            "_model_name": "HBoxModel",
            "_view_module": "@jupyter-widgets/controls",
            "_model_module_version": "1.5.0",
            "_view_count": null,
            "_view_module_version": "1.5.0",
            "box_style": "",
            "layout": "IPY_MODEL_e5df7d4183714d20be22db9e6e4c678e",
            "_model_module": "@jupyter-widgets/controls",
            "children": [
              "IPY_MODEL_130f0398666e405c9dbdd62a1a22532d",
              "IPY_MODEL_e59b8562c63c4bc79dc9340c663c6dc3",
              "IPY_MODEL_174608b24265483b8c62727b67312b76"
            ]
          }
        },
        "e5df7d4183714d20be22db9e6e4c678e": {
          "model_module": "@jupyter-widgets/base",
          "model_name": "LayoutModel",
          "model_module_version": "1.2.0",
          "state": {
            "_view_name": "LayoutView",
            "grid_template_rows": null,
            "right": null,
            "justify_content": null,
            "_view_module": "@jupyter-widgets/base",
            "overflow": null,
            "_model_module_version": "1.2.0",
            "_view_count": null,
            "flex_flow": null,
            "width": null,
            "min_width": null,
            "border": null,
            "align_items": null,
            "bottom": null,
            "_model_module": "@jupyter-widgets/base",
            "top": null,
            "grid_column": null,
            "overflow_y": null,
            "overflow_x": null,
            "grid_auto_flow": null,
            "grid_area": null,
            "grid_template_columns": null,
            "flex": null,
            "_model_name": "LayoutModel",
            "justify_items": null,
            "grid_row": null,
            "max_height": null,
            "align_content": null,
            "visibility": null,
            "align_self": null,
            "height": null,
            "min_height": null,
            "padding": null,
            "grid_auto_rows": null,
            "grid_gap": null,
            "max_width": null,
            "order": null,
            "_view_module_version": "1.2.0",
            "grid_template_areas": null,
            "object_position": null,
            "object_fit": null,
            "grid_auto_columns": null,
            "margin": null,
            "display": null,
            "left": null
          }
        },
        "130f0398666e405c9dbdd62a1a22532d": {
          "model_module": "@jupyter-widgets/controls",
          "model_name": "HTMLModel",
          "model_module_version": "1.5.0",
          "state": {
            "_view_name": "HTMLView",
            "style": "IPY_MODEL_e0c76d01d7454ceab79ecf8c4606d188",
            "_dom_classes": [],
            "description": "",
            "_model_name": "HTMLModel",
            "placeholder": "​",
            "_view_module": "@jupyter-widgets/controls",
            "_model_module_version": "1.5.0",
            "value": "100%",
            "_view_count": null,
            "_view_module_version": "1.5.0",
            "description_tooltip": null,
            "_model_module": "@jupyter-widgets/controls",
            "layout": "IPY_MODEL_06097a5d8ce8427fad4aaf9ed3bd12fb"
          }
        },
        "e59b8562c63c4bc79dc9340c663c6dc3": {
          "model_module": "@jupyter-widgets/controls",
          "model_name": "FloatProgressModel",
          "model_module_version": "1.5.0",
          "state": {
            "_view_name": "ProgressView",
            "style": "IPY_MODEL_8f24cdcba3fe4114b1919285da26ba46",
            "_dom_classes": [],
            "description": "",
            "_model_name": "FloatProgressModel",
            "bar_style": "success",
            "max": 153,
            "_view_module": "@jupyter-widgets/controls",
            "_model_module_version": "1.5.0",
            "value": 153,
            "_view_count": null,
            "_view_module_version": "1.5.0",
            "orientation": "horizontal",
            "min": 0,
            "description_tooltip": null,
            "_model_module": "@jupyter-widgets/controls",
            "layout": "IPY_MODEL_824a6cf6ea024b95a2a7b8e68181b951"
          }
        },
        "174608b24265483b8c62727b67312b76": {
          "model_module": "@jupyter-widgets/controls",
          "model_name": "HTMLModel",
          "model_module_version": "1.5.0",
          "state": {
            "_view_name": "HTMLView",
            "style": "IPY_MODEL_89c610ff2f89460fb194092a7f98b1ff",
            "_dom_classes": [],
            "description": "",
            "_model_name": "HTMLModel",
            "placeholder": "​",
            "_view_module": "@jupyter-widgets/controls",
            "_model_module_version": "1.5.0",
            "value": " 153/153 [00:04&lt;00:00, 36.52it/s]",
            "_view_count": null,
            "_view_module_version": "1.5.0",
            "description_tooltip": null,
            "_model_module": "@jupyter-widgets/controls",
            "layout": "IPY_MODEL_4e4c1cc1b1a249139991938ea8b3f0e9"
          }
        },
        "e0c76d01d7454ceab79ecf8c4606d188": {
          "model_module": "@jupyter-widgets/controls",
          "model_name": "DescriptionStyleModel",
          "model_module_version": "1.5.0",
          "state": {
            "_view_name": "StyleView",
            "_model_name": "DescriptionStyleModel",
            "description_width": "",
            "_view_module": "@jupyter-widgets/base",
            "_model_module_version": "1.5.0",
            "_view_count": null,
            "_view_module_version": "1.2.0",
            "_model_module": "@jupyter-widgets/controls"
          }
        },
        "06097a5d8ce8427fad4aaf9ed3bd12fb": {
          "model_module": "@jupyter-widgets/base",
          "model_name": "LayoutModel",
          "model_module_version": "1.2.0",
          "state": {
            "_view_name": "LayoutView",
            "grid_template_rows": null,
            "right": null,
            "justify_content": null,
            "_view_module": "@jupyter-widgets/base",
            "overflow": null,
            "_model_module_version": "1.2.0",
            "_view_count": null,
            "flex_flow": null,
            "width": null,
            "min_width": null,
            "border": null,
            "align_items": null,
            "bottom": null,
            "_model_module": "@jupyter-widgets/base",
            "top": null,
            "grid_column": null,
            "overflow_y": null,
            "overflow_x": null,
            "grid_auto_flow": null,
            "grid_area": null,
            "grid_template_columns": null,
            "flex": null,
            "_model_name": "LayoutModel",
            "justify_items": null,
            "grid_row": null,
            "max_height": null,
            "align_content": null,
            "visibility": null,
            "align_self": null,
            "height": null,
            "min_height": null,
            "padding": null,
            "grid_auto_rows": null,
            "grid_gap": null,
            "max_width": null,
            "order": null,
            "_view_module_version": "1.2.0",
            "grid_template_areas": null,
            "object_position": null,
            "object_fit": null,
            "grid_auto_columns": null,
            "margin": null,
            "display": null,
            "left": null
          }
        },
        "8f24cdcba3fe4114b1919285da26ba46": {
          "model_module": "@jupyter-widgets/controls",
          "model_name": "ProgressStyleModel",
          "model_module_version": "1.5.0",
          "state": {
            "_view_name": "StyleView",
            "_model_name": "ProgressStyleModel",
            "description_width": "",
            "_view_module": "@jupyter-widgets/base",
            "_model_module_version": "1.5.0",
            "_view_count": null,
            "_view_module_version": "1.2.0",
            "bar_color": null,
            "_model_module": "@jupyter-widgets/controls"
          }
        },
        "824a6cf6ea024b95a2a7b8e68181b951": {
          "model_module": "@jupyter-widgets/base",
          "model_name": "LayoutModel",
          "model_module_version": "1.2.0",
          "state": {
            "_view_name": "LayoutView",
            "grid_template_rows": null,
            "right": null,
            "justify_content": null,
            "_view_module": "@jupyter-widgets/base",
            "overflow": null,
            "_model_module_version": "1.2.0",
            "_view_count": null,
            "flex_flow": null,
            "width": null,
            "min_width": null,
            "border": null,
            "align_items": null,
            "bottom": null,
            "_model_module": "@jupyter-widgets/base",
            "top": null,
            "grid_column": null,
            "overflow_y": null,
            "overflow_x": null,
            "grid_auto_flow": null,
            "grid_area": null,
            "grid_template_columns": null,
            "flex": null,
            "_model_name": "LayoutModel",
            "justify_items": null,
            "grid_row": null,
            "max_height": null,
            "align_content": null,
            "visibility": null,
            "align_self": null,
            "height": null,
            "min_height": null,
            "padding": null,
            "grid_auto_rows": null,
            "grid_gap": null,
            "max_width": null,
            "order": null,
            "_view_module_version": "1.2.0",
            "grid_template_areas": null,
            "object_position": null,
            "object_fit": null,
            "grid_auto_columns": null,
            "margin": null,
            "display": null,
            "left": null
          }
        },
        "89c610ff2f89460fb194092a7f98b1ff": {
          "model_module": "@jupyter-widgets/controls",
          "model_name": "DescriptionStyleModel",
          "model_module_version": "1.5.0",
          "state": {
            "_view_name": "StyleView",
            "_model_name": "DescriptionStyleModel",
            "description_width": "",
            "_view_module": "@jupyter-widgets/base",
            "_model_module_version": "1.5.0",
            "_view_count": null,
            "_view_module_version": "1.2.0",
            "_model_module": "@jupyter-widgets/controls"
          }
        },
        "4e4c1cc1b1a249139991938ea8b3f0e9": {
          "model_module": "@jupyter-widgets/base",
          "model_name": "LayoutModel",
          "model_module_version": "1.2.0",
          "state": {
            "_view_name": "LayoutView",
            "grid_template_rows": null,
            "right": null,
            "justify_content": null,
            "_view_module": "@jupyter-widgets/base",
            "overflow": null,
            "_model_module_version": "1.2.0",
            "_view_count": null,
            "flex_flow": null,
            "width": null,
            "min_width": null,
            "border": null,
            "align_items": null,
            "bottom": null,
            "_model_module": "@jupyter-widgets/base",
            "top": null,
            "grid_column": null,
            "overflow_y": null,
            "overflow_x": null,
            "grid_auto_flow": null,
            "grid_area": null,
            "grid_template_columns": null,
            "flex": null,
            "_model_name": "LayoutModel",
            "justify_items": null,
            "grid_row": null,
            "max_height": null,
            "align_content": null,
            "visibility": null,
            "align_self": null,
            "height": null,
            "min_height": null,
            "padding": null,
            "grid_auto_rows": null,
            "grid_gap": null,
            "max_width": null,
            "order": null,
            "_view_module_version": "1.2.0",
            "grid_template_areas": null,
            "object_position": null,
            "object_fit": null,
            "grid_auto_columns": null,
            "margin": null,
            "display": null,
            "left": null
          }
        },
        "3ee26f68cacd49bab2ce03827217a8aa": {
          "model_module": "@jupyter-widgets/controls",
          "model_name": "HBoxModel",
          "model_module_version": "1.5.0",
          "state": {
            "_view_name": "HBoxView",
            "_dom_classes": [],
            "_model_name": "HBoxModel",
            "_view_module": "@jupyter-widgets/controls",
            "_model_module_version": "1.5.0",
            "_view_count": null,
            "_view_module_version": "1.5.0",
            "box_style": "",
            "layout": "IPY_MODEL_78fcde61310042068e0c09699ffcfcf2",
            "_model_module": "@jupyter-widgets/controls",
            "children": [
              "IPY_MODEL_990a8ea6c4fe436a84da28ff42d9dcc7",
              "IPY_MODEL_cb0a2c66a99244d8b1fa754690156338",
              "IPY_MODEL_f1c45dec8a9a4a349faefec1eed4eded"
            ]
          }
        },
        "78fcde61310042068e0c09699ffcfcf2": {
          "model_module": "@jupyter-widgets/base",
          "model_name": "LayoutModel",
          "model_module_version": "1.2.0",
          "state": {
            "_view_name": "LayoutView",
            "grid_template_rows": null,
            "right": null,
            "justify_content": null,
            "_view_module": "@jupyter-widgets/base",
            "overflow": null,
            "_model_module_version": "1.2.0",
            "_view_count": null,
            "flex_flow": null,
            "width": null,
            "min_width": null,
            "border": null,
            "align_items": null,
            "bottom": null,
            "_model_module": "@jupyter-widgets/base",
            "top": null,
            "grid_column": null,
            "overflow_y": null,
            "overflow_x": null,
            "grid_auto_flow": null,
            "grid_area": null,
            "grid_template_columns": null,
            "flex": null,
            "_model_name": "LayoutModel",
            "justify_items": null,
            "grid_row": null,
            "max_height": null,
            "align_content": null,
            "visibility": null,
            "align_self": null,
            "height": null,
            "min_height": null,
            "padding": null,
            "grid_auto_rows": null,
            "grid_gap": null,
            "max_width": null,
            "order": null,
            "_view_module_version": "1.2.0",
            "grid_template_areas": null,
            "object_position": null,
            "object_fit": null,
            "grid_auto_columns": null,
            "margin": null,
            "display": null,
            "left": null
          }
        },
        "990a8ea6c4fe436a84da28ff42d9dcc7": {
          "model_module": "@jupyter-widgets/controls",
          "model_name": "HTMLModel",
          "model_module_version": "1.5.0",
          "state": {
            "_view_name": "HTMLView",
            "style": "IPY_MODEL_8d2fc03337544695ba1de9636256688e",
            "_dom_classes": [],
            "description": "",
            "_model_name": "HTMLModel",
            "placeholder": "​",
            "_view_module": "@jupyter-widgets/controls",
            "_model_module_version": "1.5.0",
            "value": "100%",
            "_view_count": null,
            "_view_module_version": "1.5.0",
            "description_tooltip": null,
            "_model_module": "@jupyter-widgets/controls",
            "layout": "IPY_MODEL_6acad68c44454d0abcfa8c0ba3b2daf8"
          }
        },
        "cb0a2c66a99244d8b1fa754690156338": {
          "model_module": "@jupyter-widgets/controls",
          "model_name": "FloatProgressModel",
          "model_module_version": "1.5.0",
          "state": {
            "_view_name": "ProgressView",
            "style": "IPY_MODEL_f0f126ab93d6434b9108a162e16061e1",
            "_dom_classes": [],
            "description": "",
            "_model_name": "FloatProgressModel",
            "bar_style": "success",
            "max": 40,
            "_view_module": "@jupyter-widgets/controls",
            "_model_module_version": "1.5.0",
            "value": 40,
            "_view_count": null,
            "_view_module_version": "1.5.0",
            "orientation": "horizontal",
            "min": 0,
            "description_tooltip": null,
            "_model_module": "@jupyter-widgets/controls",
            "layout": "IPY_MODEL_169859fbbcc64d37a7b3f06f874e71e2"
          }
        },
        "f1c45dec8a9a4a349faefec1eed4eded": {
          "model_module": "@jupyter-widgets/controls",
          "model_name": "HTMLModel",
          "model_module_version": "1.5.0",
          "state": {
            "_view_name": "HTMLView",
            "style": "IPY_MODEL_3d8c15cab5fe47a8be78780430c1b0f2",
            "_dom_classes": [],
            "description": "",
            "_model_name": "HTMLModel",
            "placeholder": "​",
            "_view_module": "@jupyter-widgets/controls",
            "_model_module_version": "1.5.0",
            "value": " 40/40 [00:00&lt;00:00, 119.73it/s]",
            "_view_count": null,
            "_view_module_version": "1.5.0",
            "description_tooltip": null,
            "_model_module": "@jupyter-widgets/controls",
            "layout": "IPY_MODEL_e1d38971b9a34a5f80b3b3d68a4bda41"
          }
        },
        "8d2fc03337544695ba1de9636256688e": {
          "model_module": "@jupyter-widgets/controls",
          "model_name": "DescriptionStyleModel",
          "model_module_version": "1.5.0",
          "state": {
            "_view_name": "StyleView",
            "_model_name": "DescriptionStyleModel",
            "description_width": "",
            "_view_module": "@jupyter-widgets/base",
            "_model_module_version": "1.5.0",
            "_view_count": null,
            "_view_module_version": "1.2.0",
            "_model_module": "@jupyter-widgets/controls"
          }
        },
        "6acad68c44454d0abcfa8c0ba3b2daf8": {
          "model_module": "@jupyter-widgets/base",
          "model_name": "LayoutModel",
          "model_module_version": "1.2.0",
          "state": {
            "_view_name": "LayoutView",
            "grid_template_rows": null,
            "right": null,
            "justify_content": null,
            "_view_module": "@jupyter-widgets/base",
            "overflow": null,
            "_model_module_version": "1.2.0",
            "_view_count": null,
            "flex_flow": null,
            "width": null,
            "min_width": null,
            "border": null,
            "align_items": null,
            "bottom": null,
            "_model_module": "@jupyter-widgets/base",
            "top": null,
            "grid_column": null,
            "overflow_y": null,
            "overflow_x": null,
            "grid_auto_flow": null,
            "grid_area": null,
            "grid_template_columns": null,
            "flex": null,
            "_model_name": "LayoutModel",
            "justify_items": null,
            "grid_row": null,
            "max_height": null,
            "align_content": null,
            "visibility": null,
            "align_self": null,
            "height": null,
            "min_height": null,
            "padding": null,
            "grid_auto_rows": null,
            "grid_gap": null,
            "max_width": null,
            "order": null,
            "_view_module_version": "1.2.0",
            "grid_template_areas": null,
            "object_position": null,
            "object_fit": null,
            "grid_auto_columns": null,
            "margin": null,
            "display": null,
            "left": null
          }
        },
        "f0f126ab93d6434b9108a162e16061e1": {
          "model_module": "@jupyter-widgets/controls",
          "model_name": "ProgressStyleModel",
          "model_module_version": "1.5.0",
          "state": {
            "_view_name": "StyleView",
            "_model_name": "ProgressStyleModel",
            "description_width": "",
            "_view_module": "@jupyter-widgets/base",
            "_model_module_version": "1.5.0",
            "_view_count": null,
            "_view_module_version": "1.2.0",
            "bar_color": null,
            "_model_module": "@jupyter-widgets/controls"
          }
        },
        "169859fbbcc64d37a7b3f06f874e71e2": {
          "model_module": "@jupyter-widgets/base",
          "model_name": "LayoutModel",
          "model_module_version": "1.2.0",
          "state": {
            "_view_name": "LayoutView",
            "grid_template_rows": null,
            "right": null,
            "justify_content": null,
            "_view_module": "@jupyter-widgets/base",
            "overflow": null,
            "_model_module_version": "1.2.0",
            "_view_count": null,
            "flex_flow": null,
            "width": null,
            "min_width": null,
            "border": null,
            "align_items": null,
            "bottom": null,
            "_model_module": "@jupyter-widgets/base",
            "top": null,
            "grid_column": null,
            "overflow_y": null,
            "overflow_x": null,
            "grid_auto_flow": null,
            "grid_area": null,
            "grid_template_columns": null,
            "flex": null,
            "_model_name": "LayoutModel",
            "justify_items": null,
            "grid_row": null,
            "max_height": null,
            "align_content": null,
            "visibility": null,
            "align_self": null,
            "height": null,
            "min_height": null,
            "padding": null,
            "grid_auto_rows": null,
            "grid_gap": null,
            "max_width": null,
            "order": null,
            "_view_module_version": "1.2.0",
            "grid_template_areas": null,
            "object_position": null,
            "object_fit": null,
            "grid_auto_columns": null,
            "margin": null,
            "display": null,
            "left": null
          }
        },
        "3d8c15cab5fe47a8be78780430c1b0f2": {
          "model_module": "@jupyter-widgets/controls",
          "model_name": "DescriptionStyleModel",
          "model_module_version": "1.5.0",
          "state": {
            "_view_name": "StyleView",
            "_model_name": "DescriptionStyleModel",
            "description_width": "",
            "_view_module": "@jupyter-widgets/base",
            "_model_module_version": "1.5.0",
            "_view_count": null,
            "_view_module_version": "1.2.0",
            "_model_module": "@jupyter-widgets/controls"
          }
        },
        "e1d38971b9a34a5f80b3b3d68a4bda41": {
          "model_module": "@jupyter-widgets/base",
          "model_name": "LayoutModel",
          "model_module_version": "1.2.0",
          "state": {
            "_view_name": "LayoutView",
            "grid_template_rows": null,
            "right": null,
            "justify_content": null,
            "_view_module": "@jupyter-widgets/base",
            "overflow": null,
            "_model_module_version": "1.2.0",
            "_view_count": null,
            "flex_flow": null,
            "width": null,
            "min_width": null,
            "border": null,
            "align_items": null,
            "bottom": null,
            "_model_module": "@jupyter-widgets/base",
            "top": null,
            "grid_column": null,
            "overflow_y": null,
            "overflow_x": null,
            "grid_auto_flow": null,
            "grid_area": null,
            "grid_template_columns": null,
            "flex": null,
            "_model_name": "LayoutModel",
            "justify_items": null,
            "grid_row": null,
            "max_height": null,
            "align_content": null,
            "visibility": null,
            "align_self": null,
            "height": null,
            "min_height": null,
            "padding": null,
            "grid_auto_rows": null,
            "grid_gap": null,
            "max_width": null,
            "order": null,
            "_view_module_version": "1.2.0",
            "grid_template_areas": null,
            "object_position": null,
            "object_fit": null,
            "grid_auto_columns": null,
            "margin": null,
            "display": null,
            "left": null
          }
        },
        "db96cbaa525042519fa02f5a04b232b8": {
          "model_module": "@jupyter-widgets/controls",
          "model_name": "HBoxModel",
          "model_module_version": "1.5.0",
          "state": {
            "_view_name": "HBoxView",
            "_dom_classes": [],
            "_model_name": "HBoxModel",
            "_view_module": "@jupyter-widgets/controls",
            "_model_module_version": "1.5.0",
            "_view_count": null,
            "_view_module_version": "1.5.0",
            "box_style": "",
            "layout": "IPY_MODEL_65b4b548995e45aaac53959e85f24efe",
            "_model_module": "@jupyter-widgets/controls",
            "children": [
              "IPY_MODEL_ae1a3d0b1a6c49b7b7bc9feb24843c7e",
              "IPY_MODEL_a908edf7c0e24a5085e697693a1c809a",
              "IPY_MODEL_94696a7a5adc46a08c18f019e8ba555f"
            ]
          }
        },
        "65b4b548995e45aaac53959e85f24efe": {
          "model_module": "@jupyter-widgets/base",
          "model_name": "LayoutModel",
          "model_module_version": "1.2.0",
          "state": {
            "_view_name": "LayoutView",
            "grid_template_rows": null,
            "right": null,
            "justify_content": null,
            "_view_module": "@jupyter-widgets/base",
            "overflow": null,
            "_model_module_version": "1.2.0",
            "_view_count": null,
            "flex_flow": null,
            "width": null,
            "min_width": null,
            "border": null,
            "align_items": null,
            "bottom": null,
            "_model_module": "@jupyter-widgets/base",
            "top": null,
            "grid_column": null,
            "overflow_y": null,
            "overflow_x": null,
            "grid_auto_flow": null,
            "grid_area": null,
            "grid_template_columns": null,
            "flex": null,
            "_model_name": "LayoutModel",
            "justify_items": null,
            "grid_row": null,
            "max_height": null,
            "align_content": null,
            "visibility": null,
            "align_self": null,
            "height": null,
            "min_height": null,
            "padding": null,
            "grid_auto_rows": null,
            "grid_gap": null,
            "max_width": null,
            "order": null,
            "_view_module_version": "1.2.0",
            "grid_template_areas": null,
            "object_position": null,
            "object_fit": null,
            "grid_auto_columns": null,
            "margin": null,
            "display": null,
            "left": null
          }
        },
        "ae1a3d0b1a6c49b7b7bc9feb24843c7e": {
          "model_module": "@jupyter-widgets/controls",
          "model_name": "HTMLModel",
          "model_module_version": "1.5.0",
          "state": {
            "_view_name": "HTMLView",
            "style": "IPY_MODEL_081d73882dad4a319bdf1000389c3ad6",
            "_dom_classes": [],
            "description": "",
            "_model_name": "HTMLModel",
            "placeholder": "​",
            "_view_module": "@jupyter-widgets/controls",
            "_model_module_version": "1.5.0",
            "value": "100%",
            "_view_count": null,
            "_view_module_version": "1.5.0",
            "description_tooltip": null,
            "_model_module": "@jupyter-widgets/controls",
            "layout": "IPY_MODEL_1c3933796b3c4b6d94238f62aff2f2ef"
          }
        },
        "a908edf7c0e24a5085e697693a1c809a": {
          "model_module": "@jupyter-widgets/controls",
          "model_name": "FloatProgressModel",
          "model_module_version": "1.5.0",
          "state": {
            "_view_name": "ProgressView",
            "style": "IPY_MODEL_ec8420262a9746a6bd55182a26621779",
            "_dom_classes": [],
            "description": "",
            "_model_name": "FloatProgressModel",
            "bar_style": "success",
            "max": 3,
            "_view_module": "@jupyter-widgets/controls",
            "_model_module_version": "1.5.0",
            "value": 3,
            "_view_count": null,
            "_view_module_version": "1.5.0",
            "orientation": "horizontal",
            "min": 0,
            "description_tooltip": null,
            "_model_module": "@jupyter-widgets/controls",
            "layout": "IPY_MODEL_a48e8352f07f4ca08587961da60c88f5"
          }
        },
        "94696a7a5adc46a08c18f019e8ba555f": {
          "model_module": "@jupyter-widgets/controls",
          "model_name": "HTMLModel",
          "model_module_version": "1.5.0",
          "state": {
            "_view_name": "HTMLView",
            "style": "IPY_MODEL_f4311d8520f84db99eb3c825ec3bc1d2",
            "_dom_classes": [],
            "description": "",
            "_model_name": "HTMLModel",
            "placeholder": "​",
            "_view_module": "@jupyter-widgets/controls",
            "_model_module_version": "1.5.0",
            "value": " 3/3 [00:00&lt;00:00, 57.54it/s]",
            "_view_count": null,
            "_view_module_version": "1.5.0",
            "description_tooltip": null,
            "_model_module": "@jupyter-widgets/controls",
            "layout": "IPY_MODEL_c1f0cde189a84c0bb3e330a435ac52dd"
          }
        },
        "081d73882dad4a319bdf1000389c3ad6": {
          "model_module": "@jupyter-widgets/controls",
          "model_name": "DescriptionStyleModel",
          "model_module_version": "1.5.0",
          "state": {
            "_view_name": "StyleView",
            "_model_name": "DescriptionStyleModel",
            "description_width": "",
            "_view_module": "@jupyter-widgets/base",
            "_model_module_version": "1.5.0",
            "_view_count": null,
            "_view_module_version": "1.2.0",
            "_model_module": "@jupyter-widgets/controls"
          }
        },
        "1c3933796b3c4b6d94238f62aff2f2ef": {
          "model_module": "@jupyter-widgets/base",
          "model_name": "LayoutModel",
          "model_module_version": "1.2.0",
          "state": {
            "_view_name": "LayoutView",
            "grid_template_rows": null,
            "right": null,
            "justify_content": null,
            "_view_module": "@jupyter-widgets/base",
            "overflow": null,
            "_model_module_version": "1.2.0",
            "_view_count": null,
            "flex_flow": null,
            "width": null,
            "min_width": null,
            "border": null,
            "align_items": null,
            "bottom": null,
            "_model_module": "@jupyter-widgets/base",
            "top": null,
            "grid_column": null,
            "overflow_y": null,
            "overflow_x": null,
            "grid_auto_flow": null,
            "grid_area": null,
            "grid_template_columns": null,
            "flex": null,
            "_model_name": "LayoutModel",
            "justify_items": null,
            "grid_row": null,
            "max_height": null,
            "align_content": null,
            "visibility": null,
            "align_self": null,
            "height": null,
            "min_height": null,
            "padding": null,
            "grid_auto_rows": null,
            "grid_gap": null,
            "max_width": null,
            "order": null,
            "_view_module_version": "1.2.0",
            "grid_template_areas": null,
            "object_position": null,
            "object_fit": null,
            "grid_auto_columns": null,
            "margin": null,
            "display": null,
            "left": null
          }
        },
        "ec8420262a9746a6bd55182a26621779": {
          "model_module": "@jupyter-widgets/controls",
          "model_name": "ProgressStyleModel",
          "model_module_version": "1.5.0",
          "state": {
            "_view_name": "StyleView",
            "_model_name": "ProgressStyleModel",
            "description_width": "",
            "_view_module": "@jupyter-widgets/base",
            "_model_module_version": "1.5.0",
            "_view_count": null,
            "_view_module_version": "1.2.0",
            "bar_color": null,
            "_model_module": "@jupyter-widgets/controls"
          }
        },
        "a48e8352f07f4ca08587961da60c88f5": {
          "model_module": "@jupyter-widgets/base",
          "model_name": "LayoutModel",
          "model_module_version": "1.2.0",
          "state": {
            "_view_name": "LayoutView",
            "grid_template_rows": null,
            "right": null,
            "justify_content": null,
            "_view_module": "@jupyter-widgets/base",
            "overflow": null,
            "_model_module_version": "1.2.0",
            "_view_count": null,
            "flex_flow": null,
            "width": null,
            "min_width": null,
            "border": null,
            "align_items": null,
            "bottom": null,
            "_model_module": "@jupyter-widgets/base",
            "top": null,
            "grid_column": null,
            "overflow_y": null,
            "overflow_x": null,
            "grid_auto_flow": null,
            "grid_area": null,
            "grid_template_columns": null,
            "flex": null,
            "_model_name": "LayoutModel",
            "justify_items": null,
            "grid_row": null,
            "max_height": null,
            "align_content": null,
            "visibility": null,
            "align_self": null,
            "height": null,
            "min_height": null,
            "padding": null,
            "grid_auto_rows": null,
            "grid_gap": null,
            "max_width": null,
            "order": null,
            "_view_module_version": "1.2.0",
            "grid_template_areas": null,
            "object_position": null,
            "object_fit": null,
            "grid_auto_columns": null,
            "margin": null,
            "display": null,
            "left": null
          }
        },
        "f4311d8520f84db99eb3c825ec3bc1d2": {
          "model_module": "@jupyter-widgets/controls",
          "model_name": "DescriptionStyleModel",
          "model_module_version": "1.5.0",
          "state": {
            "_view_name": "StyleView",
            "_model_name": "DescriptionStyleModel",
            "description_width": "",
            "_view_module": "@jupyter-widgets/base",
            "_model_module_version": "1.5.0",
            "_view_count": null,
            "_view_module_version": "1.2.0",
            "_model_module": "@jupyter-widgets/controls"
          }
        },
        "c1f0cde189a84c0bb3e330a435ac52dd": {
          "model_module": "@jupyter-widgets/base",
          "model_name": "LayoutModel",
          "model_module_version": "1.2.0",
          "state": {
            "_view_name": "LayoutView",
            "grid_template_rows": null,
            "right": null,
            "justify_content": null,
            "_view_module": "@jupyter-widgets/base",
            "overflow": null,
            "_model_module_version": "1.2.0",
            "_view_count": null,
            "flex_flow": null,
            "width": null,
            "min_width": null,
            "border": null,
            "align_items": null,
            "bottom": null,
            "_model_module": "@jupyter-widgets/base",
            "top": null,
            "grid_column": null,
            "overflow_y": null,
            "overflow_x": null,
            "grid_auto_flow": null,
            "grid_area": null,
            "grid_template_columns": null,
            "flex": null,
            "_model_name": "LayoutModel",
            "justify_items": null,
            "grid_row": null,
            "max_height": null,
            "align_content": null,
            "visibility": null,
            "align_self": null,
            "height": null,
            "min_height": null,
            "padding": null,
            "grid_auto_rows": null,
            "grid_gap": null,
            "max_width": null,
            "order": null,
            "_view_module_version": "1.2.0",
            "grid_template_areas": null,
            "object_position": null,
            "object_fit": null,
            "grid_auto_columns": null,
            "margin": null,
            "display": null,
            "left": null
          }
        },
        "cd47e66a19c0424092e2d74c39f8239e": {
          "model_module": "@jupyter-widgets/controls",
          "model_name": "HBoxModel",
          "model_module_version": "1.5.0",
          "state": {
            "_view_name": "HBoxView",
            "_dom_classes": [],
            "_model_name": "HBoxModel",
            "_view_module": "@jupyter-widgets/controls",
            "_model_module_version": "1.5.0",
            "_view_count": null,
            "_view_module_version": "1.5.0",
            "box_style": "",
            "layout": "IPY_MODEL_839c613e71534010974c66ba3ba3d15d",
            "_model_module": "@jupyter-widgets/controls",
            "children": [
              "IPY_MODEL_a28bb4c424a246c9b8d890015fe2bbf5",
              "IPY_MODEL_ae73a5cd88dd4b86b31f1b3b159ee33e",
              "IPY_MODEL_8ba8e649f22a4b94bff73e8093dd94d5"
            ]
          }
        },
        "839c613e71534010974c66ba3ba3d15d": {
          "model_module": "@jupyter-widgets/base",
          "model_name": "LayoutModel",
          "model_module_version": "1.2.0",
          "state": {
            "_view_name": "LayoutView",
            "grid_template_rows": null,
            "right": null,
            "justify_content": null,
            "_view_module": "@jupyter-widgets/base",
            "overflow": null,
            "_model_module_version": "1.2.0",
            "_view_count": null,
            "flex_flow": null,
            "width": null,
            "min_width": null,
            "border": null,
            "align_items": null,
            "bottom": null,
            "_model_module": "@jupyter-widgets/base",
            "top": null,
            "grid_column": null,
            "overflow_y": null,
            "overflow_x": null,
            "grid_auto_flow": null,
            "grid_area": null,
            "grid_template_columns": null,
            "flex": null,
            "_model_name": "LayoutModel",
            "justify_items": null,
            "grid_row": null,
            "max_height": null,
            "align_content": null,
            "visibility": null,
            "align_self": null,
            "height": null,
            "min_height": null,
            "padding": null,
            "grid_auto_rows": null,
            "grid_gap": null,
            "max_width": null,
            "order": null,
            "_view_module_version": "1.2.0",
            "grid_template_areas": null,
            "object_position": null,
            "object_fit": null,
            "grid_auto_columns": null,
            "margin": null,
            "display": null,
            "left": null
          }
        },
        "a28bb4c424a246c9b8d890015fe2bbf5": {
          "model_module": "@jupyter-widgets/controls",
          "model_name": "HTMLModel",
          "model_module_version": "1.5.0",
          "state": {
            "_view_name": "HTMLView",
            "style": "IPY_MODEL_72fad22c66de4fc783971bdb0ea1dc72",
            "_dom_classes": [],
            "description": "",
            "_model_name": "HTMLModel",
            "placeholder": "​",
            "_view_module": "@jupyter-widgets/controls",
            "_model_module_version": "1.5.0",
            "value": "100%",
            "_view_count": null,
            "_view_module_version": "1.5.0",
            "description_tooltip": null,
            "_model_module": "@jupyter-widgets/controls",
            "layout": "IPY_MODEL_7c267ef2f74a485286162f35723f6e57"
          }
        },
        "ae73a5cd88dd4b86b31f1b3b159ee33e": {
          "model_module": "@jupyter-widgets/controls",
          "model_name": "FloatProgressModel",
          "model_module_version": "1.5.0",
          "state": {
            "_view_name": "ProgressView",
            "style": "IPY_MODEL_340767694a1e4e42a1380b41ff893d78",
            "_dom_classes": [],
            "description": "",
            "_model_name": "FloatProgressModel",
            "bar_style": "success",
            "max": 1,
            "_view_module": "@jupyter-widgets/controls",
            "_model_module_version": "1.5.0",
            "value": 1,
            "_view_count": null,
            "_view_module_version": "1.5.0",
            "orientation": "horizontal",
            "min": 0,
            "description_tooltip": null,
            "_model_module": "@jupyter-widgets/controls",
            "layout": "IPY_MODEL_9eb5fd889f6e4d8981296162bba8c7f2"
          }
        },
        "8ba8e649f22a4b94bff73e8093dd94d5": {
          "model_module": "@jupyter-widgets/controls",
          "model_name": "HTMLModel",
          "model_module_version": "1.5.0",
          "state": {
            "_view_name": "HTMLView",
            "style": "IPY_MODEL_d09b8fd2b2ef431aa4890810489b8537",
            "_dom_classes": [],
            "description": "",
            "_model_name": "HTMLModel",
            "placeholder": "​",
            "_view_module": "@jupyter-widgets/controls",
            "_model_module_version": "1.5.0",
            "value": " 1/1 [00:00&lt;00:00, 22.50it/s]",
            "_view_count": null,
            "_view_module_version": "1.5.0",
            "description_tooltip": null,
            "_model_module": "@jupyter-widgets/controls",
            "layout": "IPY_MODEL_027b3bc05c504f7c9900a932d0a94b83"
          }
        },
        "72fad22c66de4fc783971bdb0ea1dc72": {
          "model_module": "@jupyter-widgets/controls",
          "model_name": "DescriptionStyleModel",
          "model_module_version": "1.5.0",
          "state": {
            "_view_name": "StyleView",
            "_model_name": "DescriptionStyleModel",
            "description_width": "",
            "_view_module": "@jupyter-widgets/base",
            "_model_module_version": "1.5.0",
            "_view_count": null,
            "_view_module_version": "1.2.0",
            "_model_module": "@jupyter-widgets/controls"
          }
        },
        "7c267ef2f74a485286162f35723f6e57": {
          "model_module": "@jupyter-widgets/base",
          "model_name": "LayoutModel",
          "model_module_version": "1.2.0",
          "state": {
            "_view_name": "LayoutView",
            "grid_template_rows": null,
            "right": null,
            "justify_content": null,
            "_view_module": "@jupyter-widgets/base",
            "overflow": null,
            "_model_module_version": "1.2.0",
            "_view_count": null,
            "flex_flow": null,
            "width": null,
            "min_width": null,
            "border": null,
            "align_items": null,
            "bottom": null,
            "_model_module": "@jupyter-widgets/base",
            "top": null,
            "grid_column": null,
            "overflow_y": null,
            "overflow_x": null,
            "grid_auto_flow": null,
            "grid_area": null,
            "grid_template_columns": null,
            "flex": null,
            "_model_name": "LayoutModel",
            "justify_items": null,
            "grid_row": null,
            "max_height": null,
            "align_content": null,
            "visibility": null,
            "align_self": null,
            "height": null,
            "min_height": null,
            "padding": null,
            "grid_auto_rows": null,
            "grid_gap": null,
            "max_width": null,
            "order": null,
            "_view_module_version": "1.2.0",
            "grid_template_areas": null,
            "object_position": null,
            "object_fit": null,
            "grid_auto_columns": null,
            "margin": null,
            "display": null,
            "left": null
          }
        },
        "340767694a1e4e42a1380b41ff893d78": {
          "model_module": "@jupyter-widgets/controls",
          "model_name": "ProgressStyleModel",
          "model_module_version": "1.5.0",
          "state": {
            "_view_name": "StyleView",
            "_model_name": "ProgressStyleModel",
            "description_width": "",
            "_view_module": "@jupyter-widgets/base",
            "_model_module_version": "1.5.0",
            "_view_count": null,
            "_view_module_version": "1.2.0",
            "bar_color": null,
            "_model_module": "@jupyter-widgets/controls"
          }
        },
        "9eb5fd889f6e4d8981296162bba8c7f2": {
          "model_module": "@jupyter-widgets/base",
          "model_name": "LayoutModel",
          "model_module_version": "1.2.0",
          "state": {
            "_view_name": "LayoutView",
            "grid_template_rows": null,
            "right": null,
            "justify_content": null,
            "_view_module": "@jupyter-widgets/base",
            "overflow": null,
            "_model_module_version": "1.2.0",
            "_view_count": null,
            "flex_flow": null,
            "width": null,
            "min_width": null,
            "border": null,
            "align_items": null,
            "bottom": null,
            "_model_module": "@jupyter-widgets/base",
            "top": null,
            "grid_column": null,
            "overflow_y": null,
            "overflow_x": null,
            "grid_auto_flow": null,
            "grid_area": null,
            "grid_template_columns": null,
            "flex": null,
            "_model_name": "LayoutModel",
            "justify_items": null,
            "grid_row": null,
            "max_height": null,
            "align_content": null,
            "visibility": null,
            "align_self": null,
            "height": null,
            "min_height": null,
            "padding": null,
            "grid_auto_rows": null,
            "grid_gap": null,
            "max_width": null,
            "order": null,
            "_view_module_version": "1.2.0",
            "grid_template_areas": null,
            "object_position": null,
            "object_fit": null,
            "grid_auto_columns": null,
            "margin": null,
            "display": null,
            "left": null
          }
        },
        "d09b8fd2b2ef431aa4890810489b8537": {
          "model_module": "@jupyter-widgets/controls",
          "model_name": "DescriptionStyleModel",
          "model_module_version": "1.5.0",
          "state": {
            "_view_name": "StyleView",
            "_model_name": "DescriptionStyleModel",
            "description_width": "",
            "_view_module": "@jupyter-widgets/base",
            "_model_module_version": "1.5.0",
            "_view_count": null,
            "_view_module_version": "1.2.0",
            "_model_module": "@jupyter-widgets/controls"
          }
        },
        "027b3bc05c504f7c9900a932d0a94b83": {
          "model_module": "@jupyter-widgets/base",
          "model_name": "LayoutModel",
          "model_module_version": "1.2.0",
          "state": {
            "_view_name": "LayoutView",
            "grid_template_rows": null,
            "right": null,
            "justify_content": null,
            "_view_module": "@jupyter-widgets/base",
            "overflow": null,
            "_model_module_version": "1.2.0",
            "_view_count": null,
            "flex_flow": null,
            "width": null,
            "min_width": null,
            "border": null,
            "align_items": null,
            "bottom": null,
            "_model_module": "@jupyter-widgets/base",
            "top": null,
            "grid_column": null,
            "overflow_y": null,
            "overflow_x": null,
            "grid_auto_flow": null,
            "grid_area": null,
            "grid_template_columns": null,
            "flex": null,
            "_model_name": "LayoutModel",
            "justify_items": null,
            "grid_row": null,
            "max_height": null,
            "align_content": null,
            "visibility": null,
            "align_self": null,
            "height": null,
            "min_height": null,
            "padding": null,
            "grid_auto_rows": null,
            "grid_gap": null,
            "max_width": null,
            "order": null,
            "_view_module_version": "1.2.0",
            "grid_template_areas": null,
            "object_position": null,
            "object_fit": null,
            "grid_auto_columns": null,
            "margin": null,
            "display": null,
            "left": null
          }
        }
      }
    }
  },
  "cells": [
    {
      "cell_type": "markdown",
      "source": [
        "### This notebook helps playing wordle by suggesting the best guesses after the first guess"
      ],
      "metadata": {
        "id": "MRn70j2V3X42"
      }
    },
    {
      "cell_type": "code",
      "execution_count": 1,
      "metadata": {
        "id": "TmnPqEcwvjRz"
      },
      "outputs": [],
      "source": [
        "import numpy as np\n",
        "import random\n",
        "import math\n",
        "import time\n",
        "import re\n",
        "import string\n",
        "from tqdm.notebook import tqdm_notebook\n",
        "\n",
        "from itertools import permutations,combinations_with_replacement,combinations"
      ]
    },
    {
      "cell_type": "code",
      "source": [
        "#get a list of all lowercase letters of the alphabet to check\n",
        "letters = list(string.ascii_lowercase)\n",
        "len(letters)"
      ],
      "metadata": {
        "colab": {
          "base_uri": "https://localhost:8080/"
        },
        "id": "rxFb_jiHvxBX",
        "outputId": "6d0cbf11-7309-431e-d28f-9ac297a55af1"
      },
      "execution_count": 2,
      "outputs": [
        {
          "output_type": "execute_result",
          "data": {
            "text/plain": [
              "26"
            ]
          },
          "metadata": {},
          "execution_count": 2
        }
      ]
    },
    {
      "cell_type": "code",
      "source": [
        "#get all the 12972 possible words that can be guessed\n",
        "guesses = open('/content/Worlde_Word_List.txt','r').read().splitlines()\n",
        "print(len(guesses))\n",
        "#print(guesses[:10])\n",
        "TOTAL_WORDS=len(guesses)"
      ],
      "metadata": {
        "colab": {
          "base_uri": "https://localhost:8080/"
        },
        "id": "dt-recg-vy-M",
        "outputId": "aacdf68a-7133-4295-cec3-e68e1c23c948"
      },
      "execution_count": 3,
      "outputs": [
        {
          "output_type": "stream",
          "name": "stdout",
          "text": [
            "12972\n"
          ]
        }
      ]
    },
    {
      "cell_type": "code",
      "source": [
        "#get a dictionary with all words along with their probability of occurences\n",
        "\n",
        "long_freqs = open('/content/long_freqs.txt','r').read().splitlines() #12972 words\n",
        "short_freqs = open('/content/short_freqs.txt','r').read().splitlines() #2315 words \n",
        "\n",
        "print(len(long_freqs),len(short_freqs))\n",
        "#print(len(long_freqs)+len(short_freqs))\n",
        "freqs = long_freqs + short_freqs\n",
        "#print(len(freqs))\n",
        "\n",
        "freqs_dict={}\n",
        "for item in freqs:\n",
        "  x = item.split(' ')\n",
        "  freqs_dict[x[0]] = float(x[1])\n",
        "print(len(freqs_dict))\n",
        "del long_freqs, short_freqs, #freqs"
      ],
      "metadata": {
        "id": "9tXBmrStKErg",
        "colab": {
          "base_uri": "https://localhost:8080/"
        },
        "outputId": "8ac4354b-3274-4fc1-9df2-6bfa9e0b69d2"
      },
      "execution_count": 4,
      "outputs": [
        {
          "output_type": "stream",
          "name": "stdout",
          "text": [
            "10657 2315\n",
            "12972\n"
          ]
        }
      ]
    },
    {
      "cell_type": "markdown",
      "source": [
        "**This function eliminates words based on the word we gussed that is the occurance of the letters in grey, yellow and the greens**"
      ],
      "metadata": {
        "id": "1ljRN2zQ6P_o"
      }
    },
    {
      "cell_type": "code",
      "source": [
        "def eliminate_words(not_letters, present_letters,pos_letters,pos_absent):\n",
        "  letter_counter = 0\n",
        "  remain = []\n",
        "\n",
        "  for item in pos_letters:\n",
        "    if item in letters:#letters = all 26 letters\n",
        "      letter_counter +=1\n",
        "  #print('letter_counter:',letter_counter)\n",
        "  #letter_counter keeps counts of how many letters are in the fixed position\n",
        "\n",
        "      \n",
        "  #print(not_letters)\n",
        "  for item in guesses:\n",
        "    temp = list(item)\n",
        "    #print(temp)\n",
        "    #eliminates letters that aren't present\n",
        "    if ((len((set(temp) & set(not_letters)))) == 0) and\\\n",
        "                                      ((len((set(temp) & set(present_letters)))) == len(present_letters)): #keeps letters are\n",
        "      if letter_counter!=0:\n",
        "        counter = letter_counter\n",
        "        five_counter = 0\n",
        "        while five_counter <5:\n",
        "          current_letter = pos_letters[five_counter]\n",
        "          if current_letter in letters:\n",
        "            #print('here2',current_letter,temp[five_counter])\n",
        "\n",
        "            if temp[five_counter] == current_letter:\n",
        "              #print('here3',item)\n",
        "              counter -=1\n",
        "              five_counter +=1\n",
        "              #print(counter,five_counter)\n",
        "              if (counter == 0) or (five_counter == 5) :\n",
        "                remain.append(item)\n",
        "            else:\n",
        "              break #since if one letter doesn't match, it doesn't matter if others match\n",
        "          else:\n",
        "            five_counter+=1\n",
        "            \n",
        "      else:#letter_counter !=0\n",
        "        remain.append(item)\n",
        "\n",
        "  #eliminate letter based on yellow positions\n",
        "  new_remain=[]\n",
        "  do_eliminate=False\n",
        "  for x in pos_absent:\n",
        "    if len(list(x))!=0:\n",
        "      do_eliminate=True\n",
        "      break\n",
        "\n",
        "  \n",
        "  if do_eliminate:\n",
        "    \n",
        "    for word in remain:\n",
        "      match=False\n",
        "      list_word = list(word)\n",
        "      for indx, pos in enumerate(pos_absent):\n",
        "        if match:\n",
        "          break\n",
        "        pos_list = list(pos)\n",
        "        if len(pos_list) !=0:\n",
        "          #county=len(pos_list)\n",
        "          for letter in pos_list:\n",
        "            if list_word[indx]==letter:\n",
        "              match=True\n",
        "              break\n",
        "        if not match and indx==4:\n",
        "          new_remain.append(word)\n",
        "    return new_remain\n",
        "  \n",
        "  else:\n",
        "    return remain"
      ],
      "metadata": {
        "id": "L2BA4tTMv6k2"
      },
      "execution_count": 5,
      "outputs": []
    },
    {
      "cell_type": "markdown",
      "source": [
        "**This function calculates the information gain of each word and then sorts a dictionary with the highest information gained word at the top**"
      ],
      "metadata": {
        "id": "l4QXF4646q6I"
      }
    },
    {
      "cell_type": "code",
      "source": [
        "def get_entropy(remain,freqs,combs):\n",
        "  bit_info={}\n",
        "  bit_relv={}\n",
        "\n",
        "  prob_average=[]\n",
        "  for item in tqdm_notebook(remain):\n",
        "    temp = list(item)\n",
        "    #eliminates letters that aren't present\n",
        "    probs_list=[]\n",
        "    rel_probs=[]\n",
        "    EI_list=[]\n",
        "    EI_relv=[]\n",
        "    for comb in list(combs): #go though all combinations of grey,yellow & green\n",
        "      \n",
        "      not_letters = []\n",
        "      present_letters = []\n",
        "      pos_letters = []\n",
        "      letter_counter=0\n",
        "      remain_words=[]\n",
        "      for indx,comb_item in enumerate(comb):\n",
        "        #counterss +=1\n",
        "        #print(indx,comb_item)\n",
        "        if comb_item == 'green':\n",
        "          pos_letters.append(temp[indx])\n",
        "        elif comb_item == 'yellow':\n",
        "          present_letters.append(temp[indx])\n",
        "          pos_letters.append('-')\n",
        "        else: #comb_item == grey\n",
        "          not_letters.append(temp[indx])\n",
        "          pos_letters.append('-')\n",
        "      #print(word,pos_letters,present_letters,not_letters)\n",
        "      for ltr in pos_letters:\n",
        "        if ltr in letters:#letters = all 26 letters\n",
        "          letter_counter +=1\n",
        "      \n",
        "      for word in remain:                        \n",
        "        \n",
        "        temp1 = list(word)\n",
        "        if ((len((set(temp1) & set(not_letters)))) == 0) and\\\n",
        "                                          ((len((set(temp1) & set(present_letters)))) == len(present_letters)): #keeps letters are\n",
        "          if letter_counter!=0:\n",
        "            counter = letter_counter\n",
        "            five_counter = 0\n",
        "            while five_counter <5:\n",
        "              current_letter = pos_letters[five_counter]\n",
        "              if current_letter in letters:\n",
        "                #print('here2',current_letter,temp[five_counter])\n",
        "\n",
        "                if temp1[five_counter] == current_letter:\n",
        "                  #print('here3',item,word)\n",
        "                  counter -=1\n",
        "                  five_counter +=1\n",
        "                  #print(counter,five_counter)\n",
        "                  if (counter == 0) or (five_counter == 5) :\n",
        "                    remain_words.append(word)\n",
        "                else:\n",
        "                  #pass\n",
        "                  break #since if one letter doesn't match, it doesn't matter if others match\n",
        "              else:\n",
        "                five_counter+=1\n",
        "                \n",
        "          else:#letter_counter !=0\n",
        "            \n",
        "            remain_words.append(word)\n",
        "      if len(remain_words)!=0:\n",
        "        relv_sums =0\n",
        "        for wordss in remain_words:\n",
        "          relv_prob = freqs[wordss]\n",
        "          #if relv_prob !=0 and relv_prob>0:\n",
        "          #relvs = math.log2(1/relv_prob)\n",
        "          relv_sums += relv_prob* math.log2(1/relv_prob)\n",
        "\n",
        "\n",
        "        probs = len(remain_words)/len(remain)\n",
        "        log2 = math.log2(1/probs)\n",
        "        probs_list.append(probs)\n",
        "        EI_list.append(probs*log2)\n",
        "        EI_relv.append(relv_sums)\n",
        "\n",
        "    bit_info[item]=sum(EI_list)\n",
        "    bit_relv[item] = sum(EI_relv)\n",
        "  \n",
        "    \n",
        "  \n",
        "  norm_sum = np.sum(np.asarray(list(bit_relv.values())))\n",
        "  norm_freqs = {key:bit_relv[key]/norm_sum for key in bit_relv.keys()}\n",
        "    \n",
        "  sorted_entropy = sorted(bit_info.items(), key=lambda kv: kv[1],reverse=True)\n",
        "  sorted_entropy_relv = sorted(norm_freqs.items(), key=lambda kv: kv[1],reverse=True)\n",
        "  return sorted_entropy,sorted_entropy_relv"
      ],
      "metadata": {
        "id": "gF5cUjpowmEM"
      },
      "execution_count": 6,
      "outputs": []
    },
    {
      "cell_type": "markdown",
      "source": [
        "**This uses permutations and combinations to capture all the diiferent ways in which green,grey and yellow letters can be arranged for a word**"
      ],
      "metadata": {
        "id": "SZ1lO4rp7mkP"
      }
    },
    {
      "cell_type": "code",
      "source": [
        "combx = combinations_with_replacement(['grey', 'yellow', 'green'], 3)\n",
        "#print(len(list(combx)))\n",
        "\n",
        "PERMS=[]\n",
        "for item in list(combx):\n",
        "  x = list(permutations(item, 3))\n",
        "  #for y in x:\n",
        "    #if y not in PERMS:\n",
        "  PERMS.extend(x)\n",
        "#print(len(PERMS))\n",
        "temp=[]\n",
        "COMBS=[]\n",
        "for permu in PERMS:\n",
        "  combs = list(combinations_with_replacement(permu, 5))\n",
        "  temp.extend(combs)\n",
        "for item in temp:\n",
        "  if item not in COMBS:\n",
        "    COMBS.append(item)\n",
        "print('TOTAL COMBINATIONS:',len(COMBS))"
      ],
      "metadata": {
        "colab": {
          "base_uri": "https://localhost:8080/"
        },
        "id": "_2HwqiRZL7X-",
        "outputId": "0e1618ec-f426-41ac-a09e-f5dd31d23cf6"
      },
      "execution_count": 7,
      "outputs": [
        {
          "output_type": "stream",
          "name": "stdout",
          "text": [
            "TOTAL COMBINATIONS: 99\n"
          ]
        }
      ]
    },
    {
      "cell_type": "code",
      "source": [
        "# There are 70 words that have '-1' in the probability score, and we change to  a very low number 1e-16,\n",
        "#so that it doesn't throw an error\n",
        "counter =0\n",
        "for item in freqs_dict.items():\n",
        "  itm = list(item)\n",
        "  if itm[-1] == -1.:\n",
        "    freqs_dict[itm[0]] = 1e-16\n",
        "    counter +=1\n",
        "print(counter)"
      ],
      "metadata": {
        "colab": {
          "base_uri": "https://localhost:8080/"
        },
        "id": "kpDhYXxGHvZy",
        "outputId": "bb8ea6bc-0fa3-4654-f30e-7e4b840d8ab3"
      },
      "execution_count": 8,
      "outputs": [
        {
          "output_type": "stream",
          "name": "stdout",
          "text": [
            "70\n"
          ]
        }
      ]
    },
    {
      "cell_type": "markdown",
      "source": [
        "## RUN 1"
      ],
      "metadata": {
        "id": "K2jWimXnmSJ4"
      }
    },
    {
      "cell_type": "code",
      "source": [
        "#if one wants a random word from the whole set to make a guess in the game\n",
        "print(random.choice(guesses))"
      ],
      "metadata": {
        "colab": {
          "base_uri": "https://localhost:8080/"
        },
        "id": "uDII9M2BLhaB",
        "outputId": "0e653ed2-2cb4-43ec-8106-5ac565091be1"
      },
      "execution_count": 17,
      "outputs": [
        {
          "output_type": "stream",
          "name": "stdout",
          "text": [
            "means\n"
          ]
        }
      ]
    },
    {
      "cell_type": "markdown",
      "source": [
        "##### This first run is after you have made the first guess and the resulting details are entered"
      ],
      "metadata": {
        "id": "8IdIZYps9lMX"
      }
    },
    {
      "cell_type": "code",
      "source": [
        "#RUN 1, after the first guess is made\n",
        "no_runs = 1\n",
        "reduction=[TOTAL_WORDS,TOTAL_WORDS] #keeps track of the reducing number of words\n",
        "present_bits = math.log2(TOTAL_WORDS)\n",
        "print('Highest number of {} bits in the distribution'.format(present_bits))\n",
        "\n",
        "\n",
        "guessed_word = 'means' #The word you guessed \n",
        "\n",
        "\n",
        "absent = 'mans'  #all letters in grey; the letters that aren't in the answer\n",
        "present = 'e'    #letters in yellow; letters present but in the wrong position\n",
        "\n",
        "#letters in green; here the letters have to entered accoring to their postions\n",
        "#example if we get k as green in the 1st position, we write k----\n",
        "#position_present\n",
        "pos_present = '-----'  #there must 5 characters at all times, or an error will show up\n",
        "\n",
        "#This is to keep tab of the letters in yellow, \n",
        "#enter the letters in yellow based on position, so words with those letters in that position aren't taken\n",
        "#position_absent\n",
        "pos_absent = ['','e','','','']\n",
        "\n",
        "\n",
        "\n",
        "print('Guessed Word:',guessed_word)\n",
        "\n",
        "if len(list(pos_present)) ==5:\n",
        "  remain_words = eliminate_words(list(absent), list(present), list(pos_present),pos_absent)\n",
        "  reduction.append(len(remain_words))\n",
        "  print('Remaining_words:{}, {}%'.format\n",
        "        (len(remain_words),(len(remain_words)/TOTAL_WORDS)*100.))\n",
        "  #print(\"Word space reduced to {}%:\".format((len(remain_words)/TOTAL_WORDS)*100.))\n",
        "  sorted_entropy1,sorted_relv_entropy1 = get_entropy(remain_words,freqs_dict,COMBS)\n",
        "  #print(len(sorted_entropy))\n",
        "  print(sorted_entropy1[:10])\n",
        "  print(sorted_relv_entropy1[:10])\n",
        "  probs = len(remain_words)/reduction[no_runs]\n",
        "  new_entropy = math.log2(1/probs)\n",
        "  print('Number of bits droppped in entropy',new_entropy)\n",
        "  print('Entropy is now reduced from {} bits to {} bits'.\n",
        "        format(present_bits,present_bits-new_entropy))\n",
        "  present_bits = present_bits-new_entropy\n",
        "  print('Full entropy now stands at:',present_bits)\n",
        "\n",
        "else:\n",
        "  print('ERROR: lenght of pos_present should be equal to 5')\n",
        "\n",
        "#no_runs +=1\n",
        "#print(prev_word_count)"
      ],
      "metadata": {
        "colab": {
          "base_uri": "https://localhost:8080/",
          "height": 208,
          "referenced_widgets": [
            "cb7b95f1a25746299ce02892c1bd4ff7",
            "073277189f3447aeb2f5cd4232df8a76",
            "aa2985a8e5cf4debacbfb77b0b6a2831",
            "b9dba870c2df4fef9a326a1e67ca4416",
            "d1492fd6eca545418aefca4a18ef0063",
            "0d6adc37b99440ad9aa2751805dcf7b5",
            "7b91a0b3023a4cd1ae2d32ec396681ca",
            "54c1eeb3d79b4c03bd5163bca6abcd81",
            "1b6d922042c245188c2c60156e8413fa",
            "dcf4f0d25ea5488bbd51304c94c12db9",
            "84edbcd80e97434780b6ff4698590985"
          ]
        },
        "id": "FN60ymAEz1iT",
        "outputId": "861bcb90-26e5-4c18-88e9-a423e6a7202c"
      },
      "execution_count": 18,
      "outputs": [
        {
          "output_type": "stream",
          "name": "stdout",
          "text": [
            "Highest number of 13.663113308455806 bits in the distribution\n",
            "Guessed Word: means\n",
            "Remaining_words:1082, 8.34104224483503%\n"
          ]
        },
        {
          "output_type": "display_data",
          "data": {
            "application/vnd.jupyter.widget-view+json": {
              "model_id": "cb7b95f1a25746299ce02892c1bd4ff7",
              "version_minor": 0,
              "version_major": 2
            },
            "text/plain": [
              "  0%|          | 0/1082 [00:00<?, ?it/s]"
            ]
          },
          "metadata": {}
        },
        {
          "output_type": "stream",
          "name": "stdout",
          "text": [
            "[('puled', 5.490692730735842), ('cured', 5.483017429104285), ('fired', 5.4780091424803), ('pured', 5.467283087402873), ('lured', 5.438579121106101), ('pried', 5.421166528245736), ('tired', 5.413775180547652), ('biled', 5.3892992571870915), ('tried', 5.384607022967506), ('filed', 5.373606075042547)]\n",
            "[('their', 0.0036804235124750467), ('other', 0.003613049119289145), ('there', 0.0025217716376490424), ('theic', 0.002446213440505754), ('thelf', 0.002207971208012097), ('theow', 0.002136981269220191), ('thewy', 0.002112022922341415), ('ither', 0.002110318505451857), ('cyder', 0.0019965189673968255), ('cyber', 0.001966196377267019)]\n",
            "Number of bits droppped in entropy 3.583628524628991\n",
            "Entropy is now reduced from 13.663113308455806 bits to 10.079484783826814 bits\n",
            "Full entropy now stands at: 10.079484783826814\n"
          ]
        }
      ]
    },
    {
      "cell_type": "markdown",
      "source": [
        "## RUN 2"
      ],
      "metadata": {
        "id": "VN90ERjumUxk"
      }
    },
    {
      "cell_type": "markdown",
      "source": [
        "#### This runs after the second guess is made and the resulting grey, yellow and green letters are added to eliminate more words "
      ],
      "metadata": {
        "id": "g2Fry8Pk_iik"
      }
    },
    {
      "cell_type": "code",
      "source": [
        "#RUN 2, after the second guess is made\n",
        "\n",
        "guessed_word = 'puled'\n",
        "\n",
        "\n",
        "#This must include absent letters from the previous runs, because it looks all words again\n",
        "absent = 'manspuld'\n",
        "present = ''\n",
        "\n",
        "\n",
        "pos_present = '---e-'\n",
        "\n",
        "pos_absent = ['','','','','']\n",
        "\n",
        "\n",
        "guess=[]\n",
        "for indx,item in enumerate(sorted_entropy1):\n",
        "  if item[0]==guessed_word:\n",
        "    guess=list(sorted_entropy1[indx])\n",
        "\n",
        "#guess = list(sorted_entropy[0])\n",
        "print('Gussed Word:',guess)\n",
        "claim_entropy = guess[-1]\n",
        "#print('Claimed reduction in entropy:',present_bits-claim_entropy)\n",
        "no_runs = 2\n",
        "\n",
        "\n",
        "if len(list(pos_present)) ==5:\n",
        "  remain_words = eliminate_words(list(absent), list(present), list(pos_present),pos_absent)\n",
        "  reduction.append(len(remain_words))\n",
        "  print('Remaining_words:{}, {}%'.format\n",
        "        (len(remain_words),(len(remain_words)/TOTAL_WORDS)*100.))\n",
        "  #print(\"Word space reduced to {}%:\".format((len(remain_words)/TOTAL_WORDS)*100.))\n",
        "  sorted_entropy2,sorted_relv_entropy2 = get_entropy(remain_words,freqs_dict,COMBS)\n",
        "  #print(len(sorted_entropy))\n",
        "  print(sorted_entropy2[:30])\n",
        "  print(sorted_relv_entropy2[:30])\n",
        "  probs = len(remain_words)/reduction[no_runs]\n",
        "  new_entropy = math.log2(1/probs)\n",
        "  \n",
        "  print('Number of bits droppped in entropy',new_entropy)\n",
        "\n",
        "  print('Claimed reduction in entropy from {} to {}:'.\n",
        "        format(present_bits,present_bits-claim_entropy))\n",
        "  print('Actual reduction in entropy {} bits to {} bits'.\n",
        "        format(present_bits,present_bits-new_entropy))\n",
        "  present_bits = present_bits-new_entropy\n",
        "  print('Full entropy now stands at:',present_bits)\n",
        "\n",
        "else:\n",
        "  print('ERROR: lenght of pos_present should be equal to 5')\n",
        "\n",
        "#no_runs +=1\n",
        "#print(prev_word_count)"
      ],
      "metadata": {
        "colab": {
          "base_uri": "https://localhost:8080/",
          "height": 208,
          "referenced_widgets": [
            "4b0fe89787cd47759cb2fdd25d0f80f3",
            "e5df7d4183714d20be22db9e6e4c678e",
            "130f0398666e405c9dbdd62a1a22532d",
            "e59b8562c63c4bc79dc9340c663c6dc3",
            "174608b24265483b8c62727b67312b76",
            "e0c76d01d7454ceab79ecf8c4606d188",
            "06097a5d8ce8427fad4aaf9ed3bd12fb",
            "8f24cdcba3fe4114b1919285da26ba46",
            "824a6cf6ea024b95a2a7b8e68181b951",
            "89c610ff2f89460fb194092a7f98b1ff",
            "4e4c1cc1b1a249139991938ea8b3f0e9"
          ]
        },
        "id": "1eTsDh8Oe2Gv",
        "outputId": "fdc968bf-f639-464a-f92d-911bd81b8449"
      },
      "execution_count": 19,
      "outputs": [
        {
          "output_type": "stream",
          "name": "stdout",
          "text": [
            "Gussed Word: ['puled', 5.490692730735842]\n",
            "Remaining_words:153, 1.179463459759482%\n"
          ]
        },
        {
          "output_type": "display_data",
          "data": {
            "application/vnd.jupyter.widget-view+json": {
              "model_id": "4b0fe89787cd47759cb2fdd25d0f80f3",
              "version_minor": 0,
              "version_major": 2
            },
            "text/plain": [
              "  0%|          | 0/153 [00:00<?, ?it/s]"
            ]
          },
          "metadata": {}
        },
        {
          "output_type": "stream",
          "name": "stdout",
          "text": [
            "[('fiver', 8.873645816478431), ('cover', 8.476470703007939), ('wiver', 8.278054368118886), ('biter', 8.23665409056855), ('citer', 8.231681298511688), ('coyer', 8.222049491358376), ('hiver', 8.207847592854018), ('tower', 8.2072484096176), ('fiber', 8.133810205208965), ('twier', 8.096465273410514), ('twoer', 8.068005575857484), ('giver', 8.04211335675862), ('cower', 8.039603075057283), ('foyer', 8.030118850757413), ('toker', 8.008604866930888), ('bower', 7.936087502233893), ('toyer', 7.920556965889957), ('jiver', 7.889655824930909), ('kiter', 7.811672515408454), ('woker', 7.734951643715284), ('vower', 7.576274979324862), ('voter', 7.546312822267148), ('hover', 7.540978169465025), ('twyer', 7.50149456881646), ('biker', 7.3902284540868175), ('icker', 7.324479821504576), ('giber', 7.2646258424186785), ('yoker', 7.260546890336524), ('hiker', 7.210140574748124), ('joker', 7.115730960576237)]\n",
            "[('other', 0.06008615512154091), ('ither', 0.02456978782924971), ('ether', 0.017453110090568213), ('giver', 0.01729401000988391), ('three', 0.017186666186545848), ('jiver', 0.017182279436335143), ('wiver', 0.016932528019362812), ('fiver', 0.016829977485076836), ('offer', 0.016664793608508303), ('cyber', 0.016415052677335184), ('ocker', 0.015832804653185838), ('fiber', 0.015747853766033302), ('giber', 0.015604596995975774), ('jiber', 0.015536866054040544), ('viver', 0.015505555672214733), ('biker', 0.015232095235468718), ('ocher', 0.015067283391371207), ('threw', 0.014982433048761895), ('icker', 0.01490433757824913), ('fixer', 0.014843632074107686), ('icier', 0.014335520425003781), ('fifer', 0.014098424170345113), ('otter', 0.014054933884432023), ('voter', 0.01181434527585737), ('biter', 0.011803548600308978), ('citer', 0.011533296791770103), ('kiter', 0.011512698798196492), ('twyer', 0.011333260084610778), ('twier', 0.011209721567297647), ('tower', 0.011042982830632176)]\n",
            "Number of bits droppped in entropy 2.8220969411341637\n",
            "Claimed reduction in entropy from 10.079484783826814 to 4.588792053090972:\n",
            "Actual reduction in entropy 10.079484783826814 bits to 7.25738784269265 bits\n",
            "Full entropy now stands at: 7.25738784269265\n"
          ]
        }
      ]
    },
    {
      "cell_type": "markdown",
      "source": [
        "## RUN 3"
      ],
      "metadata": {
        "id": "8Qf_oi-XmW8S"
      }
    },
    {
      "cell_type": "code",
      "source": [
        "#RUN 3, after the second guess is made\n",
        "no_runs = 3\n",
        "\n",
        "\n",
        "guessed_word = 'fiver'\n",
        "\n",
        "\n",
        "absent = 'manspuldfiv'\n",
        "present = ''\n",
        "pos_present = '---er'\n",
        "\n",
        "pos_absent = ['','','','','']\n",
        "\n",
        "\n",
        "\n",
        "guess=[]\n",
        "for indx,item in enumerate(sorted_entropy2):\n",
        "  if item[0]==guessed_word:\n",
        "    guess=list(sorted_entropy2[indx])\n",
        "\n",
        "#guess = list(sorted_entropy[0])\n",
        "print('GUESS:',guessed_word)\n",
        "claim_entropy = guess[-1]\n",
        "#print('Claimed reduction in entropy:',present_bits-claim_entropy)\n",
        "\n",
        "\n",
        "\n",
        "if len(list(pos_present)) ==5:\n",
        "  remain_words = eliminate_words(list(absent), list(present), list(pos_present),pos_absent)\n",
        "  reduction.append(len(remain_words))\n",
        "  print('Remaining_words:{}, {}%'.format\n",
        "        (len(remain_words),(len(remain_words)/TOTAL_WORDS)*100.))\n",
        "  #print(\"Word space reduced to {}%:\".format((len(remain_words)/TOTAL_WORDS)*100.))\n",
        "  sorted_entropy3,sorted_relv_entropy3 = get_entropy(remain_words,freqs_dict,COMBS)\n",
        "  #print(len(sorted_entropy))\n",
        "  print(sorted_entropy3[:10])\n",
        "  print(sorted_relv_entropy3[:10])\n",
        "  probs = len(remain_words)/reduction[no_runs]\n",
        "  new_entropy = math.log2(1/probs)\n",
        "  \n",
        "  print('Number of bits droppped in entropy',new_entropy)\n",
        "\n",
        "  print('Claimed reduction in entropy from {} to {}:'.\n",
        "        format(present_bits,present_bits-claim_entropy))\n",
        "  print('Actual reduction in entropy {} bits to {} bits'.\n",
        "        format(present_bits,present_bits-new_entropy))\n",
        "  present_bits = present_bits-new_entropy\n",
        "  print('Full entropy now stands at:',present_bits)\n",
        "\n",
        "else:\n",
        "  print('ERROR: lenght of pos_present should be equal to 5')\n",
        "\n",
        "#no_runs +=1\n",
        "#print(prev_word_count)"
      ],
      "metadata": {
        "colab": {
          "base_uri": "https://localhost:8080/",
          "height": 208,
          "referenced_widgets": [
            "3ee26f68cacd49bab2ce03827217a8aa",
            "78fcde61310042068e0c09699ffcfcf2",
            "990a8ea6c4fe436a84da28ff42d9dcc7",
            "cb0a2c66a99244d8b1fa754690156338",
            "f1c45dec8a9a4a349faefec1eed4eded",
            "8d2fc03337544695ba1de9636256688e",
            "6acad68c44454d0abcfa8c0ba3b2daf8",
            "f0f126ab93d6434b9108a162e16061e1",
            "169859fbbcc64d37a7b3f06f874e71e2",
            "3d8c15cab5fe47a8be78780430c1b0f2",
            "e1d38971b9a34a5f80b3b3d68a4bda41"
          ]
        },
        "id": "MBeH0FYAP4Js",
        "outputId": "8175c697-a925-4073-c1ac-64b2b263f1cf"
      },
      "execution_count": 20,
      "outputs": [
        {
          "output_type": "stream",
          "name": "stdout",
          "text": [
            "GUESS: fiver\n",
            "Remaining_words:40, 0.3083564600678384%\n"
          ]
        },
        {
          "output_type": "display_data",
          "data": {
            "application/vnd.jupyter.widget-view+json": {
              "model_id": "3ee26f68cacd49bab2ce03827217a8aa",
              "version_minor": 0,
              "version_major": 2
            },
            "text/plain": [
              "  0%|          | 0/40 [00:00<?, ?it/s]"
            ]
          },
          "metadata": {}
        },
        {
          "output_type": "stream",
          "name": "stdout",
          "text": [
            "[('tower', 11.739108429853665), ('cower', 11.370764993284874), ('toker', 11.133960323522068), ('toyer', 11.09071694844611), ('twyer', 10.918274404809186), ('coyer', 10.874866964481855), ('twoer', 10.839894280839518), ('woker', 10.674566092387831), ('bower', 10.603773194888111), ('other', 9.691834511140584)]\n",
            "[('other', 0.3071857137013936), ('ether', 0.08615827589389365), ('cyber', 0.05807805569921297), ('ocher', 0.057399432694330545), ('ocker', 0.0568030419634055), ('otter', 0.0564642789901082), ('tower', 0.033836585361398254), ('toker', 0.029451033337051857), ('toyer', 0.029385098911354754), ('borer', 0.02933479982621501)]\n",
            "Number of bits droppped in entropy 1.9354597478052893\n",
            "Claimed reduction in entropy from 7.25738784269265 to -1.616257973785781:\n",
            "Actual reduction in entropy 7.25738784269265 bits to 5.321928094887361 bits\n",
            "Full entropy now stands at: 5.321928094887361\n"
          ]
        }
      ]
    },
    {
      "cell_type": "markdown",
      "source": [
        "## RUN 4"
      ],
      "metadata": {
        "id": "IPcvCbxrmapf"
      }
    },
    {
      "cell_type": "code",
      "source": [
        "#RUN 4, after the second guess is made\n",
        "no_runs = 4\n",
        "\n",
        "\n",
        "guessed_word = 'tower'\n",
        "\n",
        "\n",
        "absent = 'manspuldfivw'\n",
        "present = 'to'\n",
        "pos_present = '---er'\n",
        "\n",
        "pos_absent = ['t','o','','','']\n",
        "\n",
        "\n",
        "\n",
        "guess=[]\n",
        "for indx,item in enumerate(sorted_entropy3):\n",
        "  if item[0]==guessed_word:\n",
        "    guess=list(sorted_entropy3[indx])\n",
        "\n",
        "#guess = list(sorted_entropy[0])\n",
        "print('GUESS:',guess)\n",
        "claim_entropy = guess[-1]\n",
        "\n",
        "if len(list(pos_present)) ==5:\n",
        "  remain_words = eliminate_words(list(absent), list(present), list(pos_present),pos_absent)\n",
        "  reduction.append(len(remain_words))\n",
        "  print('Remaining_words:{}, {}%'.format\n",
        "        (len(remain_words),(len(remain_words)/TOTAL_WORDS)*100.))\n",
        "  #print(\"Word space reduced to {}%:\".format((len(remain_words)/TOTAL_WORDS)*100.))\n",
        "  sorted_entropy4,sorted_relv_entropy4 = get_entropy(remain_words,freqs_dict,COMBS)\n",
        "  #print(len(sorted_entropy))\n",
        "  print(sorted_entropy4[:10])\n",
        "  print(sorted_relv_entropy4[:10])\n",
        "  probs = len(remain_words)/reduction[no_runs]\n",
        "  new_entropy = math.log2(1/probs)\n",
        "  \n",
        "  print('Number of bits droppped in entropy',new_entropy)\n",
        "\n",
        "  print('Claimed reduction in entropy from {} to {}:'.\n",
        "        format(present_bits,present_bits-claim_entropy))\n",
        "  print('Actual reduction in entropy {} bits to {} bits'.\n",
        "        format(present_bits,present_bits-new_entropy))\n",
        "  present_bits = present_bits-new_entropy\n",
        "  print('Full entropy now stands at:',present_bits)\n",
        "\n",
        "else:\n",
        "  print('ERROR: lenght of pos_present should be equal to 5')\n",
        "\n",
        "#no_runs +=1\n",
        "#print(prev_word_count)"
      ],
      "metadata": {
        "colab": {
          "base_uri": "https://localhost:8080/",
          "height": 188,
          "referenced_widgets": [
            "db96cbaa525042519fa02f5a04b232b8",
            "65b4b548995e45aaac53959e85f24efe",
            "ae1a3d0b1a6c49b7b7bc9feb24843c7e",
            "a908edf7c0e24a5085e697693a1c809a",
            "94696a7a5adc46a08c18f019e8ba555f",
            "081d73882dad4a319bdf1000389c3ad6",
            "1c3933796b3c4b6d94238f62aff2f2ef",
            "ec8420262a9746a6bd55182a26621779",
            "a48e8352f07f4ca08587961da60c88f5",
            "f4311d8520f84db99eb3c825ec3bc1d2",
            "c1f0cde189a84c0bb3e330a435ac52dd"
          ]
        },
        "id": "AE_9JoYmk3aC",
        "outputId": "673aad31-eabe-4fd5-83fd-5589c7d67671"
      },
      "execution_count": 22,
      "outputs": [
        {
          "output_type": "stream",
          "name": "stdout",
          "text": [
            "GUESS: ['tower', 11.739108429853665]\n",
            "Remaining_words:3, 0.023126734505087884%\n"
          ]
        },
        {
          "output_type": "display_data",
          "data": {
            "application/vnd.jupyter.widget-view+json": {
              "model_id": "db96cbaa525042519fa02f5a04b232b8",
              "version_minor": 0,
              "version_major": 2
            },
            "text/plain": [
              "  0%|          | 0/3 [00:00<?, ?it/s]"
            ]
          },
          "metadata": {}
        },
        {
          "output_type": "stream",
          "name": "stdout",
          "text": [
            "[('other', 13.459650006730794), ('oxter', 13.459650006730794), ('otter', 6.818045838862195)]\n",
            "[('other', 0.7849239359206597), ('otter', 0.1435079739526842), ('oxter', 0.07156809012665614)]\n",
            "Number of bits droppped in entropy 3.736965594166206\n",
            "Claimed reduction in entropy from 5.321928094887361 to -6.417180334966305:\n",
            "Actual reduction in entropy 5.321928094887361 bits to 1.5849625007211547 bits\n",
            "Full entropy now stands at: 1.5849625007211547\n"
          ]
        }
      ]
    },
    {
      "cell_type": "markdown",
      "source": [
        "## RUN 5"
      ],
      "metadata": {
        "id": "d6YeZg_4mpkZ"
      }
    },
    {
      "cell_type": "code",
      "source": [
        "#RUN 4, after the second guess is made\n",
        "no_runs = 5\n",
        "\n",
        "\n",
        "guessed_word = 'tafia'\n",
        "\n",
        "\n",
        "absent = 'drpeolsnkygf'\n",
        "present = ''\n",
        "pos_present = 'ta-i-'\n",
        "\n",
        "pos_absent = ['','','','','']\n",
        "\n",
        "\n",
        "\n",
        "guess=[]\n",
        "for indx,item in enumerate(sorted_entropy4):\n",
        "  if item[0]==guessed_word:\n",
        "    guess=list(sorted_entropy4[indx])\n",
        "\n",
        "#guess = list(sorted_entropy[0])\n",
        "print('GUESS:',guess)\n",
        "claim_entropy = guess[-1]\n",
        "\n",
        "if len(list(pos_present)) ==5:\n",
        "  remain_words = eliminate_words(list(absent), list(present), list(pos_present),pos_absent)\n",
        "  reduction.append(len(remain_words))\n",
        "  print('Remaining_words:{}, {}%'.format\n",
        "        (len(remain_words),(len(remain_words)/TOTAL_WORDS)*100.))\n",
        "  #print(\"Word space reduced to {}%:\".format((len(remain_words)/TOTAL_WORDS)*100.))\n",
        "  sorted_entropy5,sorted_relv_entropy5 = get_entropy(remain_words,freqs_dict,COMBS)\n",
        "  #print(len(sorted_entropy))\n",
        "  print(sorted_entropy5[:10])\n",
        "  print(sorted_relv_entropy5[:10])\n",
        "  probs = len(remain_words)/reduction[no_runs]\n",
        "  new_entropy = math.log2(1/probs)\n",
        "  \n",
        "  print('Number of bits droppped in entropy',new_entropy)\n",
        "\n",
        "  print('Claimed reduction in entropy from {} to {}:'.\n",
        "        format(present_bits,present_bits-claim_entropy))\n",
        "  print('Actual reduction in entropy {} bits to {} bits'.\n",
        "        format(present_bits,present_bits-new_entropy))\n",
        "  present_bits = present_bits-new_entropy\n",
        "  print('Full entropy now stands at:',present_bits)\n",
        "\n",
        "else:\n",
        "  print('ERROR: lenght of pos_present should be equal to 5')\n",
        "\n",
        "#no_runs +=1\n",
        "#print(prev_word_count)"
      ],
      "metadata": {
        "colab": {
          "base_uri": "https://localhost:8080/",
          "height": 188,
          "referenced_widgets": [
            "cd47e66a19c0424092e2d74c39f8239e",
            "839c613e71534010974c66ba3ba3d15d",
            "a28bb4c424a246c9b8d890015fe2bbf5",
            "ae73a5cd88dd4b86b31f1b3b159ee33e",
            "8ba8e649f22a4b94bff73e8093dd94d5",
            "72fad22c66de4fc783971bdb0ea1dc72",
            "7c267ef2f74a485286162f35723f6e57",
            "340767694a1e4e42a1380b41ff893d78",
            "9eb5fd889f6e4d8981296162bba8c7f2",
            "d09b8fd2b2ef431aa4890810489b8537",
            "027b3bc05c504f7c9900a932d0a94b83"
          ]
        },
        "id": "n2CbC0rwUy5R",
        "outputId": "7c23d309-583d-40eb-ab00-345d729ebd28"
      },
      "execution_count": 40,
      "outputs": [
        {
          "output_type": "stream",
          "name": "stdout",
          "text": [
            "GUESS: ['tafia', 9.409022919431095]\n",
            "Remaining_words:1, 0.00770891150169596%\n"
          ]
        },
        {
          "output_type": "display_data",
          "data": {
            "application/vnd.jupyter.widget-view+json": {
              "model_id": "cd47e66a19c0424092e2d74c39f8239e",
              "version_minor": 0,
              "version_major": 2
            },
            "text/plain": [
              "  0%|          | 0/1 [00:00<?, ?it/s]"
            ]
          },
          "metadata": {}
        },
        {
          "output_type": "stream",
          "name": "stdout",
          "text": [
            "[('tacit', 0.0)]\n",
            "[('tacit', 1.0)]\n",
            "Number of bits droppped in entropy 2.321928094887362\n",
            "Claimed reduction in entropy from -20.51159449719137 to -29.920617416622466:\n",
            "Actual reduction in entropy -20.51159449719137 bits to -22.833522592078733 bits\n",
            "Full entropy now stands at: -22.833522592078733\n"
          ]
        }
      ]
    },
    {
      "cell_type": "markdown",
      "source": [
        "## END"
      ],
      "metadata": {
        "id": "1J1xAYloPBmO"
      }
    }
  ]
}